{
 "cells": [
  {
   "cell_type": "code",
   "execution_count": 1,
   "id": "13bce911-9313-4189-84a3-7be9793f68d9",
   "metadata": {},
   "outputs": [
    {
     "name": "stdout",
     "output_type": "stream",
     "text": [
      "csv_reader: ['Serial Number', 'Matric Number'] \n",
      "\n",
      "  S/N: 1, Admin: 1911330013\n",
      "  S/N: 2, Admin: 1911330025\n",
      "  S/N: 3, Admin: 1911330001\n",
      "  S/N: 4, Admin: 1911330003\n",
      "  S/N: 5, Admin: 1911330018\n",
      "  S/N: 6, Admin: 1911330012\n",
      "  S/N: 7, Admin: 1911330045\n",
      "  S/N: 8, Admin: 1911330010\n",
      "  S/N: 9, Admin: 1911330014\n",
      "  S/N: 10, Admin: 2121330004\n"
     ]
    }
   ],
   "source": [
    "import csv\n",
    "\n",
    "\n",
    "with open(\"student_list.csv\", \"r\") as r_csv:\n",
    "    csv_reader = csv.DictReader(r_csv)\n",
    "    \n",
    "    print(\"csv_reader:\", csv_reader.fieldnames, \"\\n\")\n",
    "\n",
    "    for line in csv_reader:\n",
    "        serial_num = line[\"Serial Number\"]\n",
    "        matric_num = line[\"Matric Number\"]\n",
    "\n",
    "        print(f\"  S/N: {serial_num}, Admin: {matric_num}\")"
   ]
  },
  {
   "cell_type": "code",
   "execution_count": null,
   "id": "851da41e-4472-44cb-b690-a1c9f0227f1f",
   "metadata": {},
   "outputs": [],
   "source": []
  }
 ],
 "metadata": {
  "kernelspec": {
   "display_name": "Python 3 (ipykernel)",
   "language": "python",
   "name": "python3"
  },
  "language_info": {
   "codemirror_mode": {
    "name": "ipython",
    "version": 3
   },
   "file_extension": ".py",
   "mimetype": "text/x-python",
   "name": "python",
   "nbconvert_exporter": "python",
   "pygments_lexer": "ipython3",
   "version": "3.10.12"
  }
 },
 "nbformat": 4,
 "nbformat_minor": 5
}
