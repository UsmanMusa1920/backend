{
 "cells": [
  {
   "cell_type": "code",
   "execution_count": 1,
   "id": "416934e5-d4f3-41f0-91c1-aca3dc3983a5",
   "metadata": {},
   "outputs": [
    {
     "name": "stdout",
     "output_type": "stream",
     "text": [
      "File compressed!\n"
     ]
    }
   ],
   "source": [
    "import gzip\n",
    "import time\n",
    "import shutil\n",
    "\n",
    "def compress_file(input_file, output_file):\n",
    "    with open(input_file, \"rb\") as f_in:\n",
    "        with gzip.open(output_file, \"wb\") as f_out:\n",
    "            shutil.copyfileobj(f_in, f_out)\n",
    "\n",
    "    time.sleep(3)\n",
    "    print(\"File compressed!\")\n",
    "\n",
    "input_filename = \"usman_file.txt\"\n",
    "output_filename = \"usman_file.txt.gz\"\n",
    "\n",
    "compress_file(input_filename, output_filename)"
   ]
  },
  {
   "cell_type": "code",
   "execution_count": null,
   "id": "4551ec1c-3dd0-4308-907f-096e88c18b95",
   "metadata": {},
   "outputs": [],
   "source": []
  }
 ],
 "metadata": {
  "kernelspec": {
   "display_name": "Python 3 (ipykernel)",
   "language": "python",
   "name": "python3"
  },
  "language_info": {
   "codemirror_mode": {
    "name": "ipython",
    "version": 3
   },
   "file_extension": ".py",
   "mimetype": "text/x-python",
   "name": "python",
   "nbconvert_exporter": "python",
   "pygments_lexer": "ipython3",
   "version": "3.10.12"
  }
 },
 "nbformat": 4,
 "nbformat_minor": 5
}
