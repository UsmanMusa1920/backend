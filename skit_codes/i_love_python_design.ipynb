{
 "cells": [
  {
   "cell_type": "code",
   "execution_count": 1,
   "id": "81958d86-4953-46e6-bed7-9b95c5aacfe1",
   "metadata": {},
   "outputs": [
    {
     "name": "stdout",
     "output_type": "stream",
     "text": [
      "I\n",
      "I \n",
      "I l\n",
      "I lo\n",
      "I lov\n",
      "I love\n",
      "I love \n",
      "I love P\n",
      "I love Py\n",
      "I love Pyt\n",
      "I love Pyth\n",
      "I love Pytho\n",
      "I love Python\n",
      "I love Pytho\n",
      "I love Pyth\n",
      "I love Pyt\n",
      "I love Py\n",
      "I love P\n",
      "I love \n",
      "I love\n",
      "I lov\n",
      "I lo\n",
      "I l\n",
      "I \n",
      "I\n",
      "\n"
     ]
    }
   ],
   "source": [
    "sentence = \"I love Python\"\n",
    "\n",
    "x = 0\n",
    "\n",
    "for i in sentence:\n",
    "    x = x + 1\n",
    "    print(sentence[0:x])\n",
    "\n",
    "for j in sentence:\n",
    "    x = x - 1\n",
    "    print(sentence[0:x])"
   ]
  },
  {
   "cell_type": "code",
   "execution_count": null,
   "id": "619f4f79-7987-47df-b403-1ee96e039888",
   "metadata": {},
   "outputs": [],
   "source": []
  }
 ],
 "metadata": {
  "kernelspec": {
   "display_name": "Python 3 (ipykernel)",
   "language": "python",
   "name": "python3"
  },
  "language_info": {
   "codemirror_mode": {
    "name": "ipython",
    "version": 3
   },
   "file_extension": ".py",
   "mimetype": "text/x-python",
   "name": "python",
   "nbconvert_exporter": "python",
   "pygments_lexer": "ipython3",
   "version": "3.10.12"
  }
 },
 "nbformat": 4,
 "nbformat_minor": 5
}
