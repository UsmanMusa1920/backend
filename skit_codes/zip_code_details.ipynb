{
 "cells": [
  {
   "cell_type": "code",
   "execution_count": 3,
   "id": "9a4cc732-354b-4629-816a-f9ffe4492091",
   "metadata": {},
   "outputs": [],
   "source": [
    "# pip install geopy geocoder\n",
    "\n",
    "# internet connection require\n",
    "\n",
    "from geopy.geocoders import Nominatim\n",
    "\n",
    "def zip_code(zipcode):\n",
    "    geolocator = Nominatim(user_agent=\"usman\")\n",
    "    location = geolocator.geocode(zipcode)\n",
    "    \n",
    "    print(\"Zipcode:\", zipcode)\n",
    "    print(\"Zipcode details:\", location)"
   ]
  },
  {
   "cell_type": "code",
   "execution_count": 4,
   "id": "ca16c63e-c4ad-4881-8bc2-c0e2925a1d88",
   "metadata": {},
   "outputs": [
    {
     "name": "stdout",
     "output_type": "stream",
     "text": [
      "Zipcode: 3256\n",
      "Zipcode details: 3256, Rapperswil (BE), Verwaltungskreis Seeland, Verwaltungsregion Seeland, Bern/Berne, Schweiz/Suisse/Svizzera/Svizra\n"
     ]
    }
   ],
   "source": [
    "zip_code(3256)"
   ]
  },
  {
   "cell_type": "code",
   "execution_count": 5,
   "id": "d8bf6020-518f-4e31-846a-29029bc7a3cf",
   "metadata": {},
   "outputs": [
    {
     "name": "stdout",
     "output_type": "stream",
     "text": [
      "Zipcode: 55416\n",
      "Zipcode details: 55416, Saint Louis Park, Hennepin County, Minnesota, United States\n"
     ]
    }
   ],
   "source": [
    "zip_code(55416)"
   ]
  },
  {
   "cell_type": "code",
   "execution_count": 6,
   "id": "16a6d64f-4e67-45d5-a9f9-92a77ffa98d4",
   "metadata": {},
   "outputs": [
    {
     "name": "stdout",
     "output_type": "stream",
     "text": [
      "Zipcode: 700001\n",
      "Zipcode details: 700001, Sincelejo, Montes de María, Sucre, RAP Caribe, Colombia\n"
     ]
    }
   ],
   "source": [
    "zip_code(700001)"
   ]
  },
  {
   "cell_type": "code",
   "execution_count": 7,
   "id": "35988552-3115-4f45-a8c6-ad10dfd590fe",
   "metadata": {},
   "outputs": [
    {
     "name": "stdout",
     "output_type": "stream",
     "text": [
      "Zipcode: 110005\n",
      "Zipcode details: 110005, Alipur Tehsil, North Delhi, Delhi, India\n"
     ]
    }
   ],
   "source": [
    "zip_code(110005)"
   ]
  },
  {
   "cell_type": "code",
   "execution_count": 8,
   "id": "d79f1272-0931-4ea0-ba27-001085c75378",
   "metadata": {},
   "outputs": [
    {
     "name": "stdout",
     "output_type": "stream",
     "text": [
      "Zipcode: 880001\n",
      "Zipcode details: 880001, Archipelago of Saint Andrew, Providence and Saint Catherine, Colombia\n"
     ]
    }
   ],
   "source": [
    "zip_code(880001)"
   ]
  },
  {
   "cell_type": "code",
   "execution_count": 9,
   "id": "da84696a-dcc6-4ac5-a415-021e7f54bcac",
   "metadata": {},
   "outputs": [
    {
     "name": "stdout",
     "output_type": "stream",
     "text": [
      "Zipcode: 800001\n",
      "Zipcode details: 800001, Patna Rural, Patna, Bihar, India\n"
     ]
    }
   ],
   "source": [
    "zip_code(800001)"
   ]
  },
  {
   "cell_type": "code",
   "execution_count": null,
   "id": "0cf44c83-38e9-421d-9bdf-c055a06ac688",
   "metadata": {},
   "outputs": [],
   "source": []
  }
 ],
 "metadata": {
  "kernelspec": {
   "display_name": "Python 3 (ipykernel)",
   "language": "python",
   "name": "python3"
  },
  "language_info": {
   "codemirror_mode": {
    "name": "ipython",
    "version": 3
   },
   "file_extension": ".py",
   "mimetype": "text/x-python",
   "name": "python",
   "nbconvert_exporter": "python",
   "pygments_lexer": "ipython3",
   "version": "3.10.12"
  }
 },
 "nbformat": 4,
 "nbformat_minor": 5
}
