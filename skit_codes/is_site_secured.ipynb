{
 "cells": [
  {
   "cell_type": "code",
   "execution_count": 1,
   "id": "b2e6c937-962f-4cc0-be35-71ddbc26d6f2",
   "metadata": {},
   "outputs": [],
   "source": [
    "# pip install pyqrcode\n",
    "import certifi\n",
    "import requests\n",
    "\n",
    "def is_site_secured(url):\n",
    "    try:\n",
    "        res = requests.get(url, verify=certifi.where())\n",
    "        res.raise_for_status()\n",
    "        return res.url.startswith(\"https://\")\n",
    "    except requests.exceptions.RequestException:\n",
    "        return False\n",
    "\n",
    "def site_status(url):\n",
    "    is_it = is_site_secured(url)\n",
    "\n",
    "    if is_it:\n",
    "        print(f\"{url} is a secured site.\")\n",
    "    else:\n",
    "        print(f\"{url} is not a secured site.\")"
   ]
  },
  {
   "cell_type": "code",
   "execution_count": 2,
   "id": "ee9878da-7f9d-47f9-ad88-7f7bbb23ea25",
   "metadata": {},
   "outputs": [
    {
     "name": "stdout",
     "output_type": "stream",
     "text": [
      "https://www.github.com is a secured site.\n"
     ]
    }
   ],
   "source": [
    "site_status(\"https://www.github.com\")"
   ]
  },
  {
   "cell_type": "code",
   "execution_count": 3,
   "id": "76805e98-9679-4332-843c-18f1945b3425",
   "metadata": {},
   "outputs": [
    {
     "name": "stdout",
     "output_type": "stream",
     "text": [
      "http://amazonaws .com is not a secured site.\n"
     ]
    }
   ],
   "source": [
    "site_status(\"http://amazonaws .com\")"
   ]
  },
  {
   "cell_type": "code",
   "execution_count": null,
   "id": "bdeb88be-d540-4acc-87da-0dab349f7132",
   "metadata": {},
   "outputs": [],
   "source": []
  }
 ],
 "metadata": {
  "kernelspec": {
   "display_name": "Python 3 (ipykernel)",
   "language": "python",
   "name": "python3"
  },
  "language_info": {
   "codemirror_mode": {
    "name": "ipython",
    "version": 3
   },
   "file_extension": ".py",
   "mimetype": "text/x-python",
   "name": "python",
   "nbconvert_exporter": "python",
   "pygments_lexer": "ipython3",
   "version": "3.10.12"
  }
 },
 "nbformat": 4,
 "nbformat_minor": 5
}
