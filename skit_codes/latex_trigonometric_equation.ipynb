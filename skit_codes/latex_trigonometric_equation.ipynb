{
 "cells": [
  {
   "cell_type": "code",
   "execution_count": 1,
   "id": "747413fe-0f54-441b-9c8a-3109caa1f808",
   "metadata": {},
   "outputs": [
    {
     "data": {
      "text/latex": [
       "$\\displaystyle \\sin^{2}{\\left(X \\right)} + \\cos^{2}{\\left(X \\right)} = 1$"
      ],
      "text/plain": [
       "<IPython.core.display.Math object>"
      ]
     },
     "metadata": {},
     "output_type": "display_data"
    }
   ],
   "source": [
    "import sympy as sp\n",
    "from IPython.display import display, Math\n",
    "\n",
    "x = sp.Symbol(\"X\")\n",
    "\n",
    "equation = sp.Eq(sp.sin(x) ** 2 + sp.cos(x) ** 2, 1)\n",
    "\n",
    "latex_equation = sp.latex(equation)\n",
    "\n",
    "display(Math(latex_equation))"
   ]
  },
  {
   "cell_type": "code",
   "execution_count": null,
   "id": "e2fc8f3b-91a0-49db-a3cf-337fc75ec8f5",
   "metadata": {},
   "outputs": [],
   "source": []
  }
 ],
 "metadata": {
  "kernelspec": {
   "display_name": "Python 3 (ipykernel)",
   "language": "python",
   "name": "python3"
  },
  "language_info": {
   "codemirror_mode": {
    "name": "ipython",
    "version": 3
   },
   "file_extension": ".py",
   "mimetype": "text/x-python",
   "name": "python",
   "nbconvert_exporter": "python",
   "pygments_lexer": "ipython3",
   "version": "3.10.12"
  }
 },
 "nbformat": 4,
 "nbformat_minor": 5
}
