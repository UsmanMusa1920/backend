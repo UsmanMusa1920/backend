{
 "cells": [
  {
   "cell_type": "code",
   "execution_count": 1,
   "id": "3094e934-8a4b-421d-949c-b1b7025501e4",
   "metadata": {},
   "outputs": [],
   "source": [
    "from dipense.structure import geoip\n",
    "\n",
    "g = geoip.ip('197.3.11.7')"
   ]
  },
  {
   "cell_type": "code",
   "execution_count": 2,
   "id": "7b6ff378-e126-4604-80a1-e68a6fa76365",
   "metadata": {},
   "outputs": [
    {
     "data": {
      "text/plain": [
       "<[OK] Ipinfo - Geocode [Tunis, Tunis Governorate, TN]>"
      ]
     },
     "execution_count": 2,
     "metadata": {},
     "output_type": "execute_result"
    }
   ],
   "source": [
    "g"
   ]
  },
  {
   "cell_type": "code",
   "execution_count": 3,
   "id": "52f6898d-7755-4193-88dd-b9e706d8e573",
   "metadata": {},
   "outputs": [],
   "source": [
    "g = geoip.ip('68.183.36.180')"
   ]
  },
  {
   "cell_type": "code",
   "execution_count": 4,
   "id": "3308341f-8ae0-4971-b138-d3f93649968b",
   "metadata": {},
   "outputs": [
    {
     "data": {
      "text/plain": [
       "<[OK] Ipinfo - Geocode [London, England, GB]>"
      ]
     },
     "execution_count": 4,
     "metadata": {},
     "output_type": "execute_result"
    }
   ],
   "source": [
    "g"
   ]
  },
  {
   "cell_type": "code",
   "execution_count": 5,
   "id": "faeec5aa-3964-4ad9-bee2-fd54c157dfbb",
   "metadata": {},
   "outputs": [
    {
     "data": {
      "text/plain": [
       "'68.183.36.180'"
      ]
     },
     "execution_count": 5,
     "metadata": {},
     "output_type": "execute_result"
    }
   ],
   "source": [
    "g.ip"
   ]
  },
  {
   "cell_type": "code",
   "execution_count": 6,
   "id": "c824ad2d-d49a-4eab-b784-369008b88ac4",
   "metadata": {},
   "outputs": [],
   "source": [
    "# we can save the mapp as a html file like so:\n",
    "\n",
    "# Tmap.save(f\"{g.ip}_ip_addr_map.html\")"
   ]
  },
  {
   "cell_type": "code",
   "execution_count": 7,
   "id": "e42faaab-5db9-4525-a716-c07afb0480d9",
   "metadata": {},
   "outputs": [],
   "source": [
    "from dipense.structure import tracer\n",
    "\n",
    "cty = g.city # ip address city\n",
    "stt = g.state # ip address state\n",
    "ctry = g.country # ip address country\n",
    "\n",
    "json_raw = g.raw\n",
    "time_zone = list(list(json_raw.items())[6])[1] # ip address timezone area\n",
    "d_longitude = list(list(json_raw.items())[4])[1].split(',')[1] # ip address longitude\n",
    "d_latitude = list(list(json_raw.items())[4])[1].split(',')[0] # ip address latitude\n",
    "d_location = list(list(json_raw.items())[4])[1] # ip address coordinate\n",
    "\n",
    "location = g.latlng # a list which include latitude and longitude\n",
    "\n",
    "# creating a base map, making the `min_zoom=0`,\n",
    "# overide the `zoom_start=13` from default which is `10` to `13`, and\n",
    "# overide the `max_zoom=70` from default which is `18` to `70`\n",
    "Tmap = tracer.Map(location=location, max_zoom=70, min_zoom=0, zoom_start=13)"
   ]
  },
  {
   "cell_type": "code",
   "execution_count": 8,
   "id": "88cce5aa-81b3-45c1-a959-943880dcc32d",
   "metadata": {},
   "outputs": [
    {
     "data": {
      "text/plain": [
       "<folium.map.Marker at 0x7fc915cd5b70>"
      ]
     },
     "execution_count": 8,
     "metadata": {},
     "output_type": "execute_result"
    }
   ],
   "source": [
    "# A circle of a fixed size with radius specified in pixels.\n",
    "tracer.CircleMarker(\n",
    "    location=location, radius=50, color='#3186cc', fill=True, fill_color='#3186cc').add_to(Tmap)\n",
    "tracer.Circle(\n",
    "    radius=100, location=location, popup='The Waterfront', color='crimson', fill=False).add_to(Tmap)\n",
    "# making the icon to be `cloud`\n",
    "tracer.Marker(location, icon=tracer.Icon(icon='cloud')).add_to(Tmap)"
   ]
  },
  {
   "cell_type": "code",
   "execution_count": 9,
   "id": "a5c96213-c13a-46a5-96ad-42cfc03cce19",
   "metadata": {},
   "outputs": [
    {
     "data": {
      "text/html": [
       "<div style=\"width:100%;\"><div style=\"position:relative;width:100%;height:0;padding-bottom:60%;\"><span style=\"color:#565656\">Make this Notebook Trusted to load map: File -> Trust Notebook</span><iframe srcdoc=\"&lt;!DOCTYPE html&gt;\n",
       "&lt;html&gt;\n",
       "&lt;head&gt;\n",
       "    \n",
       "    &lt;meta http-equiv=&quot;content-type&quot; content=&quot;text/html; charset=UTF-8&quot; /&gt;\n",
       "    \n",
       "        &lt;script&gt;\n",
       "            L_NO_TOUCH = false;\n",
       "            L_DISABLE_3D = false;\n",
       "        &lt;/script&gt;\n",
       "    \n",
       "    &lt;style&gt;html, body {width: 100%;height: 100%;margin: 0;padding: 0;}&lt;/style&gt;\n",
       "    &lt;style&gt;#map {position:absolute;top:0;bottom:0;right:0;left:0;}&lt;/style&gt;\n",
       "    &lt;script src=&quot;https://cdn.jsdelivr.net/npm/leaflet@1.9.3/dist/leaflet.js&quot;&gt;&lt;/script&gt;\n",
       "    &lt;script src=&quot;https://code.jquery.com/jquery-3.7.1.min.js&quot;&gt;&lt;/script&gt;\n",
       "    &lt;script src=&quot;https://cdn.jsdelivr.net/npm/bootstrap@5.2.2/dist/js/bootstrap.bundle.min.js&quot;&gt;&lt;/script&gt;\n",
       "    &lt;script src=&quot;https://cdnjs.cloudflare.com/ajax/libs/Leaflet.awesome-markers/2.0.2/leaflet.awesome-markers.js&quot;&gt;&lt;/script&gt;\n",
       "    &lt;link rel=&quot;stylesheet&quot; href=&quot;https://cdn.jsdelivr.net/npm/leaflet@1.9.3/dist/leaflet.css&quot;/&gt;\n",
       "    &lt;link rel=&quot;stylesheet&quot; href=&quot;https://cdn.jsdelivr.net/npm/bootstrap@5.2.2/dist/css/bootstrap.min.css&quot;/&gt;\n",
       "    &lt;link rel=&quot;stylesheet&quot; href=&quot;https://netdna.bootstrapcdn.com/bootstrap/3.0.0/css/bootstrap-glyphicons.css&quot;/&gt;\n",
       "    &lt;link rel=&quot;stylesheet&quot; href=&quot;https://cdn.jsdelivr.net/npm/@fortawesome/fontawesome-free@6.2.0/css/all.min.css&quot;/&gt;\n",
       "    &lt;link rel=&quot;stylesheet&quot; href=&quot;https://cdnjs.cloudflare.com/ajax/libs/Leaflet.awesome-markers/2.0.2/leaflet.awesome-markers.css&quot;/&gt;\n",
       "    &lt;link rel=&quot;stylesheet&quot; href=&quot;https://cdn.jsdelivr.net/gh/python-visualization/folium/folium/templates/leaflet.awesome.rotate.min.css&quot;/&gt;\n",
       "    \n",
       "            &lt;meta name=&quot;viewport&quot; content=&quot;width=device-width,\n",
       "                initial-scale=1.0, maximum-scale=1.0, user-scalable=no&quot; /&gt;\n",
       "            &lt;style&gt;\n",
       "                #map_de3c99dfac5f66a281111ef11c1fbe51 {\n",
       "                    position: relative;\n",
       "                    width: 100.0%;\n",
       "                    height: 100.0%;\n",
       "                    left: 0.0%;\n",
       "                    top: 0.0%;\n",
       "                }\n",
       "                .leaflet-container { font-size: 1rem; }\n",
       "            &lt;/style&gt;\n",
       "        \n",
       "&lt;/head&gt;\n",
       "&lt;body&gt;\n",
       "    \n",
       "    \n",
       "            &lt;div class=&quot;folium-map&quot; id=&quot;map_de3c99dfac5f66a281111ef11c1fbe51&quot; &gt;&lt;/div&gt;\n",
       "        \n",
       "&lt;/body&gt;\n",
       "&lt;script&gt;\n",
       "    \n",
       "    \n",
       "            var map_de3c99dfac5f66a281111ef11c1fbe51 = L.map(\n",
       "                &quot;map_de3c99dfac5f66a281111ef11c1fbe51&quot;,\n",
       "                {\n",
       "                    center: [51.5085, -0.1257],\n",
       "                    crs: L.CRS.EPSG3857,\n",
       "                    zoom: 13,\n",
       "                    zoomControl: true,\n",
       "                    preferCanvas: false,\n",
       "                }\n",
       "            );\n",
       "\n",
       "            \n",
       "\n",
       "        \n",
       "    \n",
       "            var tile_layer_ad856bf5bd3a382c8136c86a3a463da9 = L.tileLayer(\n",
       "                &quot;https://tile.openstreetmap.org/{z}/{x}/{y}.png&quot;,\n",
       "                {&quot;attribution&quot;: &quot;\\u0026copy; \\u003ca href=\\&quot;https://www.openstreetmap.org/copyright\\&quot;\\u003eOpenStreetMap\\u003c/a\\u003e contributors&quot;, &quot;detectRetina&quot;: false, &quot;maxNativeZoom&quot;: 19, &quot;maxZoom&quot;: 70, &quot;minZoom&quot;: 0, &quot;noWrap&quot;: false, &quot;opacity&quot;: 1, &quot;subdomains&quot;: &quot;abc&quot;, &quot;tms&quot;: false}\n",
       "            );\n",
       "        \n",
       "    \n",
       "            tile_layer_ad856bf5bd3a382c8136c86a3a463da9.addTo(map_de3c99dfac5f66a281111ef11c1fbe51);\n",
       "        \n",
       "    \n",
       "            var circle_marker_d19e5a0b8c36574ac86aa5deebf043ad = L.circleMarker(\n",
       "                [51.5085, -0.1257],\n",
       "                {&quot;bubblingMouseEvents&quot;: true, &quot;color&quot;: &quot;#3186cc&quot;, &quot;dashArray&quot;: null, &quot;dashOffset&quot;: null, &quot;fill&quot;: true, &quot;fillColor&quot;: &quot;#3186cc&quot;, &quot;fillOpacity&quot;: 0.2, &quot;fillRule&quot;: &quot;evenodd&quot;, &quot;lineCap&quot;: &quot;round&quot;, &quot;lineJoin&quot;: &quot;round&quot;, &quot;opacity&quot;: 1.0, &quot;radius&quot;: 50, &quot;stroke&quot;: true, &quot;weight&quot;: 3}\n",
       "            ).addTo(map_de3c99dfac5f66a281111ef11c1fbe51);\n",
       "        \n",
       "    \n",
       "            var circle_06e08b7cda7e3b8b74a51198ee5c51fa = L.circle(\n",
       "                [51.5085, -0.1257],\n",
       "                {&quot;bubblingMouseEvents&quot;: true, &quot;color&quot;: &quot;crimson&quot;, &quot;dashArray&quot;: null, &quot;dashOffset&quot;: null, &quot;fill&quot;: false, &quot;fillColor&quot;: &quot;crimson&quot;, &quot;fillOpacity&quot;: 0.2, &quot;fillRule&quot;: &quot;evenodd&quot;, &quot;lineCap&quot;: &quot;round&quot;, &quot;lineJoin&quot;: &quot;round&quot;, &quot;opacity&quot;: 1.0, &quot;radius&quot;: 100, &quot;stroke&quot;: true, &quot;weight&quot;: 3}\n",
       "            ).addTo(map_de3c99dfac5f66a281111ef11c1fbe51);\n",
       "        \n",
       "    \n",
       "        var popup_92965a2df2778dc5376bf083c0fa3ec1 = L.popup({&quot;maxWidth&quot;: &quot;100%&quot;});\n",
       "\n",
       "        \n",
       "            \n",
       "                var html_12c6127865e2f860d4b62b216ae10f1d = $(`&lt;div id=&quot;html_12c6127865e2f860d4b62b216ae10f1d&quot; style=&quot;width: 100.0%; height: 100.0%;&quot;&gt;The Waterfront&lt;/div&gt;`)[0];\n",
       "                popup_92965a2df2778dc5376bf083c0fa3ec1.setContent(html_12c6127865e2f860d4b62b216ae10f1d);\n",
       "            \n",
       "        \n",
       "\n",
       "        circle_06e08b7cda7e3b8b74a51198ee5c51fa.bindPopup(popup_92965a2df2778dc5376bf083c0fa3ec1)\n",
       "        ;\n",
       "\n",
       "        \n",
       "    \n",
       "    \n",
       "            var marker_832225291752673cb4a5dd8e3fde2513 = L.marker(\n",
       "                [51.5085, -0.1257],\n",
       "                {}\n",
       "            ).addTo(map_de3c99dfac5f66a281111ef11c1fbe51);\n",
       "        \n",
       "    \n",
       "            var icon_c730a29526727c2413ecdf20f03dbb91 = L.AwesomeMarkers.icon(\n",
       "                {&quot;extraClasses&quot;: &quot;fa-rotate-0&quot;, &quot;icon&quot;: &quot;cloud&quot;, &quot;iconColor&quot;: &quot;white&quot;, &quot;markerColor&quot;: &quot;blue&quot;, &quot;prefix&quot;: &quot;glyphicon&quot;}\n",
       "            );\n",
       "            marker_832225291752673cb4a5dd8e3fde2513.setIcon(icon_c730a29526727c2413ecdf20f03dbb91);\n",
       "        \n",
       "&lt;/script&gt;\n",
       "&lt;/html&gt;\" style=\"position:absolute;width:100%;height:100%;left:0;top:0;border:none !important;\" allowfullscreen webkitallowfullscreen mozallowfullscreen></iframe></div></div>"
      ],
      "text/plain": [
       "<folium.folium.Map at 0x7fc915cd6e00>"
      ]
     },
     "execution_count": 9,
     "metadata": {},
     "output_type": "execute_result"
    }
   ],
   "source": [
    "Tmap"
   ]
  },
  {
   "cell_type": "code",
   "execution_count": 10,
   "id": "e69fe193-bc46-457f-89e1-28f32746f91c",
   "metadata": {},
   "outputs": [
    {
     "data": {
      "text/plain": [
       "'England'"
      ]
     },
     "execution_count": 10,
     "metadata": {},
     "output_type": "execute_result"
    }
   ],
   "source": [
    "stt"
   ]
  },
  {
   "cell_type": "code",
   "execution_count": 11,
   "id": "cbcf66e0-ba30-4066-972d-32471bed7948",
   "metadata": {},
   "outputs": [
    {
     "data": {
      "text/plain": [
       "'London'"
      ]
     },
     "execution_count": 11,
     "metadata": {},
     "output_type": "execute_result"
    }
   ],
   "source": [
    "cty"
   ]
  },
  {
   "cell_type": "code",
   "execution_count": null,
   "id": "2e317fe9-3898-4644-ba5e-63eff5801abc",
   "metadata": {},
   "outputs": [],
   "source": []
  }
 ],
 "metadata": {
  "kernelspec": {
   "display_name": "Python 3 (ipykernel)",
   "language": "python",
   "name": "python3"
  },
  "language_info": {
   "codemirror_mode": {
    "name": "ipython",
    "version": 3
   },
   "file_extension": ".py",
   "mimetype": "text/x-python",
   "name": "python",
   "nbconvert_exporter": "python",
   "pygments_lexer": "ipython3",
   "version": "3.10.12"
  }
 },
 "nbformat": 4,
 "nbformat_minor": 5
}
