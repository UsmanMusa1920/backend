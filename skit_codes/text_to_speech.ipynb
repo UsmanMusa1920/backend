{
 "cells": [
  {
   "cell_type": "code",
   "execution_count": null,
   "id": "e2f64f8a-2623-4456-b738-687b63216ea9",
   "metadata": {},
   "outputs": [],
   "source": [
    "import pyttsx3\n",
    "\n",
    "bot = pyttsx3.init()\n",
    "\n",
    "bot.say(\"Hello world Usman!\")\n",
    "\n",
    "bot.runAndWait()\n",
    "\n",
    "# now wait for the speech via speaker."
   ]
  }
 ],
 "metadata": {
  "kernelspec": {
   "display_name": "Python 3 (ipykernel)",
   "language": "python",
   "name": "python3"
  },
  "language_info": {
   "codemirror_mode": {
    "name": "ipython",
    "version": 3
   },
   "file_extension": ".py",
   "mimetype": "text/x-python",
   "name": "python",
   "nbconvert_exporter": "python",
   "pygments_lexer": "ipython3",
   "version": "3.10.12"
  }
 },
 "nbformat": 4,
 "nbformat_minor": 5
}
