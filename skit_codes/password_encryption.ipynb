{
 "cells": [
  {
   "cell_type": "code",
   "execution_count": 1,
   "id": "1a90263b-7f93-44ee-b84d-6f174d3f8405",
   "metadata": {},
   "outputs": [],
   "source": [
    "import os\n",
    "import hashlib\n",
    "\n",
    "salt = os.urandom(32)\n",
    "pwd = \"12345\"\n",
    "\n",
    "key = hashlib.pbkdf2_hmac(\n",
    "    \"sha256\",\n",
    "    pwd.encode(\"utf-8\"),\n",
    "    salt,\n",
    "    260000,\n",
    "    dklen = 128\n",
    ")\n",
    "\n",
    "storage = salt + key"
   ]
  },
  {
   "cell_type": "code",
   "execution_count": 2,
   "id": "0b7c37c2-615c-4bae-9dce-14ae55ba0694",
   "metadata": {},
   "outputs": [
    {
     "data": {
      "text/plain": [
       "b'\\n\\xa5\\r\\'\\xccnw\\x00\\xabWM\\\\\\xdby\\xee\\x15~#\\xb7=\\x9d\\xe3\\xffb\\xcf?(Ea\\x1c\\xe8/{\\xfe\\xbc\\xf1\\xbb\\xd4\\x1eaQ\\xe0(\\x1e\\xdaK\\xb0\\xaf\\xbdh\\x15\\xed\\xeb\\xac\\x93Z\\xd8k7\\xac\\xa7\\x9d\\'\"\\xbc\\x04k\\xb2($\\xc2[\\xe9\\xe9<\\x9a\\x06\\x1c\\'4\\x8f\\xdc7&`e\\x80\\\\W\\xb7Fw)\\x1e\\x01\\x81\\x97\\xce\\x0e\\xd6<\\xafS&!\\xb3\\xad\\x18\\x07g\\xac\\x9cl\\xa7\\xc3\\x86\\xf0\\xb9\\x15Q\\xd4\\xc1\\xa7B\\xd5\\x8eE\\x88\\x9dQ\\xf1FU\\xa3s\\x0e>\\x96\\xfd\\x1d\\x05\\x81I\\xd9\\x1e\\xe3/w\\xce0\\xaf\\x94\\xf8\\xd609\\xa1\\x1d\\x99\\x13'"
      ]
     },
     "execution_count": 2,
     "metadata": {},
     "output_type": "execute_result"
    }
   ],
   "source": [
    "storage"
   ]
  },
  {
   "cell_type": "code",
   "execution_count": 3,
   "id": "1509947e-04f6-4fcb-9d07-4fede2be13a6",
   "metadata": {},
   "outputs": [
    {
     "data": {
      "text/plain": [
       "b'{\\xfe\\xbc\\xf1\\xbb\\xd4\\x1eaQ\\xe0(\\x1e\\xdaK\\xb0\\xaf\\xbdh\\x15\\xed\\xeb\\xac\\x93Z\\xd8k7\\xac\\xa7\\x9d\\'\"\\xbc\\x04k\\xb2($\\xc2[\\xe9\\xe9<\\x9a\\x06\\x1c\\'4\\x8f\\xdc7&`e\\x80\\\\W\\xb7Fw)\\x1e\\x01\\x81\\x97\\xce\\x0e\\xd6<\\xafS&!\\xb3\\xad\\x18\\x07g\\xac\\x9cl\\xa7\\xc3\\x86\\xf0\\xb9\\x15Q\\xd4\\xc1\\xa7B\\xd5\\x8eE\\x88\\x9dQ\\xf1FU\\xa3s\\x0e>\\x96\\xfd\\x1d\\x05\\x81I\\xd9\\x1e\\xe3/w\\xce0\\xaf\\x94\\xf8\\xd609\\xa1\\x1d\\x99\\x13'"
      ]
     },
     "execution_count": 3,
     "metadata": {},
     "output_type": "execute_result"
    }
   ],
   "source": [
    "s_key = storage[32:]\n",
    "s_key"
   ]
  },
  {
   "cell_type": "code",
   "execution_count": 4,
   "id": "198b1348-0649-4211-8e5b-332a0f7481b4",
   "metadata": {},
   "outputs": [
    {
     "data": {
      "text/plain": [
       "b\"\\n\\xa5\\r'\\xccnw\\x00\\xabWM\\\\\\xdby\\xee\\x15~#\\xb7=\\x9d\\xe3\\xffb\\xcf?(Ea\\x1c\\xe8/\""
      ]
     },
     "execution_count": 4,
     "metadata": {},
     "output_type": "execute_result"
    }
   ],
   "source": [
    "s_salt = storage[:32]\n",
    "s_salt"
   ]
  },
  {
   "cell_type": "code",
   "execution_count": null,
   "id": "966a9860-27fd-48bb-911c-6141a1e3d14a",
   "metadata": {},
   "outputs": [],
   "source": []
  }
 ],
 "metadata": {
  "kernelspec": {
   "display_name": "Python 3 (ipykernel)",
   "language": "python",
   "name": "python3"
  },
  "language_info": {
   "codemirror_mode": {
    "name": "ipython",
    "version": 3
   },
   "file_extension": ".py",
   "mimetype": "text/x-python",
   "name": "python",
   "nbconvert_exporter": "python",
   "pygments_lexer": "ipython3",
   "version": "3.10.12"
  }
 },
 "nbformat": 4,
 "nbformat_minor": 5
}
