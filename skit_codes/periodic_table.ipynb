{
 "cells": [
  {
   "cell_type": "code",
   "execution_count": 1,
   "id": "383a7eac-72dc-4fa2-8809-485da2918470",
   "metadata": {},
   "outputs": [],
   "source": [
    "# pip install periodictable\n",
    "import periodictable\n",
    "\n",
    "def element_info(name):\n",
    "    elem = getattr(periodictable, name, None)\n",
    "\n",
    "    if elem:\n",
    "        print(f\"Element name: {elem.name}\")\n",
    "        print(f\"Element symbol: {elem.symbol}\")\n",
    "        print(f\"Element atomic number: {elem.number}\")\n",
    "        print(f\"Element atomic weight: {elem.mass}\")\n",
    "        print(f\"Element density: {elem.density}\")\n",
    "    else:\n",
    "        print(f\"Element `{name}` not found.\")"
   ]
  },
  {
   "cell_type": "code",
   "execution_count": 2,
   "id": "8546f59c-f13b-4757-8bef-89f6146459e2",
   "metadata": {},
   "outputs": [
    {
     "name": "stdout",
     "output_type": "stream",
     "text": [
      "Element name: magnesium\n",
      "Element symbol: Mg\n",
      "Element atomic number: 12\n",
      "Element atomic weight: 24.305\n",
      "Element density: 1.738\n"
     ]
    }
   ],
   "source": [
    "element_info(\"Mg\")"
   ]
  },
  {
   "cell_type": "code",
   "execution_count": 3,
   "id": "d781ef06-0c71-4965-a818-2fecd7f1e524",
   "metadata": {
    "scrolled": true
   },
   "outputs": [
    {
     "name": "stdout",
     "output_type": "stream",
     "text": [
      "Element name: hydrogen\n",
      "Element symbol: H\n",
      "Element atomic number: 1\n",
      "Element atomic weight: 1.00794\n",
      "Element density: 0.0708\n"
     ]
    }
   ],
   "source": [
    "element_info(\"H\")"
   ]
  },
  {
   "cell_type": "code",
   "execution_count": 4,
   "id": "7a18dd81-600b-48de-8c31-ce612825381d",
   "metadata": {},
   "outputs": [
    {
     "name": "stdout",
     "output_type": "stream",
     "text": [
      "Element name: sodium\n",
      "Element symbol: Na\n",
      "Element atomic number: 11\n",
      "Element atomic weight: 22.98977\n",
      "Element density: 0.971\n"
     ]
    }
   ],
   "source": [
    "element_info(\"Na\")"
   ]
  },
  {
   "cell_type": "code",
   "execution_count": 5,
   "id": "5748ab38-6fd3-42ba-8e80-0d81ae536e34",
   "metadata": {},
   "outputs": [
    {
     "name": "stdout",
     "output_type": "stream",
     "text": [
      "Element name: neon\n",
      "Element symbol: Ne\n",
      "Element atomic number: 10\n",
      "Element atomic weight: 20.1797\n",
      "Element density: 1.207\n"
     ]
    }
   ],
   "source": [
    "element_info(\"Ne\")"
   ]
  },
  {
   "cell_type": "code",
   "execution_count": null,
   "id": "d7d1fe34-178f-48fe-a5c8-dd69264c293a",
   "metadata": {},
   "outputs": [],
   "source": []
  }
 ],
 "metadata": {
  "kernelspec": {
   "display_name": "Python 3 (ipykernel)",
   "language": "python",
   "name": "python3"
  },
  "language_info": {
   "codemirror_mode": {
    "name": "ipython",
    "version": 3
   },
   "file_extension": ".py",
   "mimetype": "text/x-python",
   "name": "python",
   "nbconvert_exporter": "python",
   "pygments_lexer": "ipython3",
   "version": "3.10.12"
  }
 },
 "nbformat": 4,
 "nbformat_minor": 5
}
