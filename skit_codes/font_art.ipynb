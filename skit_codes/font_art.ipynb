{
 "cells": [
  {
   "cell_type": "code",
   "execution_count": 4,
   "id": "ea83c3a0-0b6e-4f65-8942-ff9c274e44d6",
   "metadata": {},
   "outputs": [
    {
     "name": "stdout",
     "output_type": "stream",
     "text": [
      "\u001b[31m             \n",
      " /|/| _ _ '_ \n",
      "/   |(// /(/ \n",
      "             \n",
      "\u001b[0m\n"
     ]
    }
   ],
   "source": [
    "# pip install pyfiglet termcolor\n",
    "import pyfiglet\n",
    "from termcolor import colored\n",
    "\n",
    "text = \"Maria\"\n",
    "font = \"italic\"\n",
    "color = \"red\"\n",
    "\n",
    "if font:\n",
    "    formatted_text = pyfiglet.figlet_format(\n",
    "        text, font=font\n",
    "    )\n",
    "else:\n",
    "    formatted_text = pyfiglet.figlet_format(text)\n",
    "\n",
    "if color:\n",
    "    colored_text = colored(formatted_text, color)\n",
    "    print(colored_text)\n",
    "else:\n",
    "    print(formatted_text)"
   ]
  },
  {
   "cell_type": "code",
   "execution_count": null,
   "id": "06e29d66-8816-49ff-af5f-208bc31f86b0",
   "metadata": {},
   "outputs": [],
   "source": []
  }
 ],
 "metadata": {
  "kernelspec": {
   "display_name": "Python 3 (ipykernel)",
   "language": "python",
   "name": "python3"
  },
  "language_info": {
   "codemirror_mode": {
    "name": "ipython",
    "version": 3
   },
   "file_extension": ".py",
   "mimetype": "text/x-python",
   "name": "python",
   "nbconvert_exporter": "python",
   "pygments_lexer": "ipython3",
   "version": "3.10.12"
  }
 },
 "nbformat": 4,
 "nbformat_minor": 5
}
