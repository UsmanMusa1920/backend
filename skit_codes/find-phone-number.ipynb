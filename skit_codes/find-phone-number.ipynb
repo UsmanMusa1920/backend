{
 "cells": [
  {
   "cell_type": "code",
   "execution_count": 1,
   "id": "a3bb0b57-88d5-44ec-bd91-037847a1e58d",
   "metadata": {},
   "outputs": [],
   "source": [
    "from dipense.drone import phonenumbers as ph\n",
    "\n",
    "p_num = \"+2349083513048\"\n",
    "# p_num = \"+447911765439\"\n",
    "# p_num = \"+2349121305246\"\n",
    "# p_num = \"+919121305246\""
   ]
  },
  {
   "cell_type": "code",
   "execution_count": 2,
   "id": "dd9cf26b-8a87-4880-8831-8ea693ce3d22",
   "metadata": {},
   "outputs": [],
   "source": [
    "num_parse = ph.parse(p_num, None)"
   ]
  },
  {
   "cell_type": "code",
   "execution_count": 3,
   "id": "2d21b2a1-6225-41c6-a8f1-67f2079cf2a3",
   "metadata": {},
   "outputs": [
    {
     "data": {
      "text/plain": [
       "PhoneNumber(country_code=234, national_number=9083513048, extension=None, italian_leading_zero=None, number_of_leading_zeros=None, country_code_source=0, preferred_domestic_carrier_code=None)"
      ]
     },
     "execution_count": 3,
     "metadata": {},
     "output_type": "execute_result"
    }
   ],
   "source": [
    "num_parse"
   ]
  },
  {
   "cell_type": "code",
   "execution_count": 4,
   "id": "d0ccd145-01fd-45d2-af69-ddc387e8d1d0",
   "metadata": {},
   "outputs": [],
   "source": [
    "num_valid = ph.is_valid_number(num_parse)"
   ]
  },
  {
   "cell_type": "code",
   "execution_count": 5,
   "id": "b073059c-9c17-47cb-ad58-bbe45e0376d4",
   "metadata": {},
   "outputs": [
    {
     "data": {
      "text/plain": [
       "True"
      ]
     },
     "execution_count": 5,
     "metadata": {},
     "output_type": "execute_result"
    }
   ],
   "source": [
    "num_valid"
   ]
  },
  {
   "cell_type": "code",
   "execution_count": 6,
   "id": "b1a3e350-dc57-4acf-bb68-4ff1aae28ac1",
   "metadata": {},
   "outputs": [],
   "source": [
    "p_nation = ph.format_number(num_parse, ph.PhoneNumberFormat.NATIONAL)"
   ]
  },
  {
   "cell_type": "code",
   "execution_count": 7,
   "id": "3bde9aae-7d4b-459a-897d-335775c0cf10",
   "metadata": {},
   "outputs": [
    {
     "data": {
      "text/plain": [
       "'0908 351 3048'"
      ]
     },
     "execution_count": 7,
     "metadata": {},
     "output_type": "execute_result"
    }
   ],
   "source": [
    "p_nation"
   ]
  },
  {
   "cell_type": "code",
   "execution_count": 8,
   "id": "590ee173-bf1c-4bca-b508-f657e1d3ae0f",
   "metadata": {},
   "outputs": [],
   "source": [
    "inter_nation = ph.format_number(num_parse, ph.PhoneNumberFormat.INTERNATIONAL)"
   ]
  },
  {
   "cell_type": "code",
   "execution_count": 9,
   "id": "d660f1c8-89b4-45a3-abfb-dd957c1f2134",
   "metadata": {},
   "outputs": [
    {
     "data": {
      "text/plain": [
       "'+234 908 351 3048'"
      ]
     },
     "execution_count": 9,
     "metadata": {},
     "output_type": "execute_result"
    }
   ],
   "source": [
    "inter_nation"
   ]
  },
  {
   "cell_type": "code",
   "execution_count": 10,
   "id": "95db1808-bfdc-475a-bde0-b1a3b2751b67",
   "metadata": {},
   "outputs": [],
   "source": [
    "p_e164 = ph.format_number(num_parse, ph.PhoneNumberFormat.E164)"
   ]
  },
  {
   "cell_type": "code",
   "execution_count": 11,
   "id": "17eff4f8-d3ff-4b4f-9f0d-bcd9532f7e74",
   "metadata": {},
   "outputs": [
    {
     "data": {
      "text/plain": [
       "'+2349083513048'"
      ]
     },
     "execution_count": 11,
     "metadata": {},
     "output_type": "execute_result"
    }
   ],
   "source": [
    "p_e164"
   ]
  },
  {
   "cell_type": "code",
   "execution_count": 12,
   "id": "89f3ddfb-e4a3-4f00-aba6-5a82e1a9ca40",
   "metadata": {},
   "outputs": [],
   "source": [
    "p_geo = ph.geocoder.description_for_number(num_parse, 'en')"
   ]
  },
  {
   "cell_type": "code",
   "execution_count": 13,
   "id": "9ee2de75-b281-47bc-9a1e-eeec074d6f1c",
   "metadata": {},
   "outputs": [
    {
     "data": {
      "text/plain": [
       "'Nigeria'"
      ]
     },
     "execution_count": 13,
     "metadata": {},
     "output_type": "execute_result"
    }
   ],
   "source": [
    "p_geo"
   ]
  },
  {
   "cell_type": "code",
   "execution_count": 14,
   "id": "4d1ce2e2-6fc6-4a86-b51d-24c78bfa5920",
   "metadata": {},
   "outputs": [],
   "source": [
    "p_carr = ph.carrier.name_for_number(num_parse, 'en')"
   ]
  },
  {
   "cell_type": "code",
   "execution_count": 15,
   "id": "624ebfe6-0b4a-4da6-9096-5e6793e10b91",
   "metadata": {},
   "outputs": [
    {
     "data": {
      "text/plain": [
       "'9mobile'"
      ]
     },
     "execution_count": 15,
     "metadata": {},
     "output_type": "execute_result"
    }
   ],
   "source": [
    "p_carr"
   ]
  },
  {
   "cell_type": "code",
   "execution_count": 16,
   "id": "140301a3-ad93-4919-a91d-780ae9ee5de4",
   "metadata": {},
   "outputs": [],
   "source": [
    "time_zone_1 = ph.timezone.time_zones_for_number(num_parse)\n",
    "time_zone_2 = ph.timezone.time_zones_for_geographical_number(num_parse)"
   ]
  },
  {
   "cell_type": "code",
   "execution_count": 17,
   "id": "3e679084-4de7-4c28-857c-fd1220bd4f85",
   "metadata": {},
   "outputs": [
    {
     "data": {
      "text/plain": [
       "('Africa/Lagos',)"
      ]
     },
     "execution_count": 17,
     "metadata": {},
     "output_type": "execute_result"
    }
   ],
   "source": [
    "time_zone_1"
   ]
  },
  {
   "cell_type": "code",
   "execution_count": 18,
   "id": "a46eddaf-fbda-47e9-a160-13cca569d629",
   "metadata": {},
   "outputs": [
    {
     "data": {
      "text/plain": [
       "('Africa/Lagos',)"
      ]
     },
     "execution_count": 18,
     "metadata": {},
     "output_type": "execute_result"
    }
   ],
   "source": [
    "time_zone_2"
   ]
  },
  {
   "cell_type": "code",
   "execution_count": null,
   "id": "3a097367-6204-48fe-8f04-1329afb95d91",
   "metadata": {},
   "outputs": [],
   "source": []
  }
 ],
 "metadata": {
  "kernelspec": {
   "display_name": "Python 3 (ipykernel)",
   "language": "python",
   "name": "python3"
  },
  "language_info": {
   "codemirror_mode": {
    "name": "ipython",
    "version": 3
   },
   "file_extension": ".py",
   "mimetype": "text/x-python",
   "name": "python",
   "nbconvert_exporter": "python",
   "pygments_lexer": "ipython3",
   "version": "3.10.12"
  }
 },
 "nbformat": 4,
 "nbformat_minor": 5
}
