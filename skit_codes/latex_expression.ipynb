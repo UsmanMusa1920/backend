{
 "cells": [
  {
   "cell_type": "code",
   "execution_count": 1,
   "id": "1f477dcc-1a68-4afc-9478-d612a16137cf",
   "metadata": {},
   "outputs": [],
   "source": [
    "# pip install latexify-py\n",
    "# https://github.com/google/latexify_py/tree/main/docs\n",
    "\n",
    "import math\n",
    "import latexify\n",
    "import numpy as np # optional"
   ]
  },
  {
   "cell_type": "code",
   "execution_count": 2,
   "id": "2924752a-ae85-457c-a537-5e68816871ed",
   "metadata": {},
   "outputs": [
    {
     "data": {
      "text/latex": [
       "$$ \\displaystyle \\mathrm{greek}(\\alpha, \\beta, \\gamma, \\Omega) = \\alpha + \\beta + \\Gamma \\mathopen{}\\left( \\gamma \\mathclose{}\\right) + \\Omega $$"
      ],
      "text/plain": [
       "<latexify.ipython_wrappers.LatexifiedFunction at 0x7f161418fac0>"
      ]
     },
     "execution_count": 2,
     "metadata": {},
     "output_type": "execute_result"
    }
   ],
   "source": [
    "@latexify.function(use_math_symbols=True)\n",
    "def greek(alpha, beta, gamma, Omega):\n",
    "    return alpha + beta + math.gamma(gamma) + Omega\n",
    "greek"
   ]
  },
  {
   "cell_type": "code",
   "execution_count": 3,
   "id": "ff5ca5ae-0317-4664-9682-419c545ea355",
   "metadata": {},
   "outputs": [
    {
     "data": {
      "text/latex": [
       "$$ \\displaystyle \\mathrm{fib}(x) = \\left\\{ \\begin{array}{ll} 0, & \\mathrm{if} \\ x = 0 \\\\ 1, & \\mathrm{if} \\ x = 1 \\\\ \\mathrm{fib} \\mathopen{}\\left( x - 1 \\mathclose{}\\right) + \\mathrm{fib} \\mathopen{}\\left( x - 2 \\mathclose{}\\right), & \\mathrm{otherwise} \\end{array} \\right. $$"
      ],
      "text/plain": [
       "<latexify.ipython_wrappers.LatexifiedFunction at 0x7f161418fd90>"
      ]
     },
     "execution_count": 3,
     "metadata": {},
     "output_type": "execute_result"
    }
   ],
   "source": [
    "@latexify.function\n",
    "def fib(x):\n",
    "    if x == 0:\n",
    "        return 0\n",
    "    elif x == 1:\n",
    "        return 1\n",
    "    else:\n",
    "        return fib(x-1) + fib(x-2)\n",
    "fib"
   ]
  },
  {
   "cell_type": "code",
   "execution_count": 4,
   "id": "c3b3b31b-473b-4f3e-a788-5ec461a08210",
   "metadata": {},
   "outputs": [
    {
     "data": {
      "text/latex": [
       "$$ \\displaystyle \\mathrm{fib}(x) = \\left\\{ \\begin{array}{ll} 10, & \\mathrm{if} \\ x = \\textrm{\"A\"} \\\\ 50, & \\mathrm{if} \\ x = \\textrm{\"Z\"} \\\\ \\mathrm{fib} \\mathopen{}\\left( x - 1 \\mathclose{}\\right) + \\mathrm{fib} \\mathopen{}\\left( x - 2 \\mathclose{}\\right), & \\mathrm{otherwise} \\end{array} \\right. $$"
      ],
      "text/plain": [
       "<latexify.ipython_wrappers.LatexifiedFunction at 0x7f161418f1f0>"
      ]
     },
     "execution_count": 4,
     "metadata": {},
     "output_type": "execute_result"
    }
   ],
   "source": [
    "@latexify.function\n",
    "def fib(x):\n",
    "    if x == \"A\":\n",
    "        return 10\n",
    "    elif x == \"Z\":\n",
    "        return 50\n",
    "    else:\n",
    "        return fib(x-1) + fib(x-2)\n",
    "fib"
   ]
  },
  {
   "cell_type": "code",
   "execution_count": 5,
   "id": "35801050-1300-4b01-8d09-11eede235880",
   "metadata": {},
   "outputs": [
    {
     "data": {
      "text/plain": [
       "'\\\\mathrm{solve}(a, b, c) = \\\\frac{-b + \\\\sqrt{ b^{2} - 4 a c }}{2 a}'"
      ]
     },
     "execution_count": 5,
     "metadata": {},
     "output_type": "execute_result"
    }
   ],
   "source": [
    "# latexify.get_latex obtains the underlying LaTeX expression directly.\n",
    "\n",
    "def solve(a, b, c):\n",
    "  return (-b + math.sqrt(b**2 - 4*a*c)) / (2*a)\n",
    "\n",
    "latexify.get_latex(solve)"
   ]
  },
  {
   "cell_type": "code",
   "execution_count": 6,
   "id": "6e4ce4ee-5a34-4e82-bcf3-947802d8116c",
   "metadata": {},
   "outputs": [
    {
     "data": {
      "text/latex": [
       "$$ \\displaystyle \\mathrm{sinc}(x) = \\left\\{ \\begin{array}{ll} 1, & \\mathrm{if} \\ x = 0 \\\\ \\frac{\\sin x}{x}, & \\mathrm{otherwise} \\end{array} \\right. $$"
      ],
      "text/plain": [
       "<latexify.ipython_wrappers.LatexifiedFunction at 0x7f161418f9a0>"
      ]
     },
     "execution_count": 6,
     "metadata": {},
     "output_type": "execute_result"
    }
   ],
   "source": [
    "@latexify.function\n",
    "def sinc(x):\n",
    "  if x == 0:\n",
    "    return 1\n",
    "  else:\n",
    "    return math.sin(x) / x\n",
    "\n",
    "sinc"
   ]
  },
  {
   "cell_type": "code",
   "execution_count": 7,
   "id": "0a63f4be-9eff-4b91-8084-43846f62ca19",
   "metadata": {},
   "outputs": [
    {
     "data": {
      "text/latex": [
       "$$ \\displaystyle f(x) = g \\mathopen{}\\left( x \\mathclose{}\\right) $$"
      ],
      "text/plain": [
       "<latexify.ipython_wrappers.LatexifiedFunction at 0x7f161418f610>"
      ]
     },
     "execution_count": 7,
     "metadata": {},
     "output_type": "execute_result"
    }
   ],
   "source": [
    "# Function names, arguments, variables can be replaced.\n",
    "\n",
    "identifiers = {\n",
    "    \"my_function\": \"f\",\n",
    "    \"my_inner_function\": \"g\",\n",
    "    \"my_argument\": \"x\",\n",
    "}\n",
    "\n",
    "@latexify.function(identifiers=identifiers)\n",
    "def my_function(my_argument):\n",
    "    return my_inner_function(my_argument)\n",
    "\n",
    "my_function"
   ]
  },
  {
   "cell_type": "code",
   "execution_count": 8,
   "id": "1946db3b-2704-4b8b-85ba-0987af4fdb9f",
   "metadata": {},
   "outputs": [
    {
     "data": {
      "text/latex": [
       "$$ \\displaystyle \\mathrm{transform}(x, y, a, b, \\theta, s, t) = \\begin{bmatrix} 1 & 0 & s \\\\ 0 & 1 & t \\\\ 0 & 0 & 1 \\end{bmatrix} \\cdot \\begin{bmatrix} \\cos \\theta & -\\sin \\theta & 0 \\\\ \\sin \\theta & \\cos \\theta & 0 \\\\ 0 & 0 & 1 \\end{bmatrix} \\cdot \\begin{bmatrix} a & 0 & 0 \\\\ 0 & b & 0 \\\\ 0 & 0 & 1 \\end{bmatrix} \\cdot \\begin{bmatrix} x \\\\ y \\\\ 1 \\end{bmatrix} $$"
      ],
      "text/plain": [
       "<latexify.ipython_wrappers.LatexifiedFunction at 0x7f161418f670>"
      ]
     },
     "execution_count": 8,
     "metadata": {},
     "output_type": "execute_result"
    }
   ],
   "source": [
    "# Matrix support.\n",
    "\n",
    "@latexify.function(reduce_assignments=True, use_math_symbols=True)\n",
    "def transform(x, y, a, b, theta, s, t):\n",
    "  cos_t = math.cos(theta)\n",
    "  sin_t = math.sin(theta)\n",
    "  scale = np.array([[a, 0, 0], [0, b, 0], [0, 0, 1]])\n",
    "  rotate = np.array([[cos_t, -sin_t, 0], [sin_t, cos_t, 0], [0, 0, 1]])\n",
    "  move = np.array([[1, 0, s], [0, 1, t], [0, 0, 1]])\n",
    "  return move @ rotate @ scale @ np.array([[x], [y], [1]])\n",
    "\n",
    "transform"
   ]
  },
  {
   "cell_type": "code",
   "execution_count": 9,
   "id": "a0f8c3d1-467d-4907-a796-9abb10f61888",
   "metadata": {},
   "outputs": [
    {
     "data": {
      "text/latex": [
       "$ \\begin{array}{l} \\mathbf{function} \\ \\mathrm{fib}(x) \\\\ \\hspace{1em} \\mathbf{if} \\ x = 0 \\\\ \\hspace{2em} \\mathbf{return} \\ 0 \\\\ \\hspace{1em} \\mathbf{else} \\\\ \\hspace{2em} \\mathbf{if} \\ x = 1 \\\\ \\hspace{3em} \\mathbf{return} \\ 1 \\\\ \\hspace{2em} \\mathbf{else} \\\\ \\hspace{3em} \\mathbf{return} \\ \\mathrm{fib} \\mathopen{}\\left( x - 1 \\mathclose{}\\right) + \\mathrm{fib} \\mathopen{}\\left( x - 2 \\mathclose{}\\right) \\\\ \\hspace{2em} \\mathbf{end \\ if} \\\\ \\hspace{1em} \\mathbf{end \\ if} \\\\ \\mathbf{end \\ function} \\end{array} $"
      ],
      "text/plain": [
       "<latexify.ipython_wrappers.LatexifiedAlgorithm at 0x7f161418f9d0>"
      ]
     },
     "execution_count": 9,
     "metadata": {},
     "output_type": "execute_result"
    }
   ],
   "source": [
    "# latexify.algorithmic generates an algorithmic\n",
    "# environment instead of an equation.\n",
    "\n",
    "@latexify.algorithmic\n",
    "def fib(x):\n",
    "  if x == 0:\n",
    "    return 0\n",
    "  elif x == 1:\n",
    "    return 1\n",
    "  else:\n",
    "    return fib(x-1) + fib(x-2)\n",
    "\n",
    "fib"
   ]
  },
  {
   "cell_type": "code",
   "execution_count": 10,
   "id": "e4eddcb5-a723-4e27-ac33-dbd9d7781ce9",
   "metadata": {},
   "outputs": [
    {
     "data": {
      "text/latex": [
       "$ \\begin{array}{l} \\mathbf{function} \\ \\mathrm{collatz}(x) \\\\ \\hspace{1em} n \\gets 0 \\\\ \\hspace{1em} \\mathbf{while} \\ x > 1 \\\\ \\hspace{2em} n \\gets n + 1 \\\\ \\hspace{2em} \\mathbf{if} \\ x \\mathbin{\\%} 2 = 0 \\\\ \\hspace{3em} x \\gets \\left\\lfloor\\frac{x}{2}\\right\\rfloor \\\\ \\hspace{2em} \\mathbf{else} \\\\ \\hspace{3em} x \\gets 3 x + 1 \\\\ \\hspace{2em} \\mathbf{end \\ if} \\\\ \\hspace{1em} \\mathbf{end \\ while} \\\\ \\hspace{1em} \\mathbf{return} \\ n \\\\ \\mathbf{end \\ function} \\end{array} $"
      ],
      "text/plain": [
       "<latexify.ipython_wrappers.LatexifiedAlgorithm at 0x7f161418fb80>"
      ]
     },
     "execution_count": 10,
     "metadata": {},
     "output_type": "execute_result"
    }
   ],
   "source": [
    "# Another example: latexify.algorithmic supports usual control flows.\n",
    "\n",
    "@latexify.algorithmic\n",
    "def collatz(x):\n",
    "  n = 0\n",
    "  while x > 1:\n",
    "    n = n + 1\n",
    "    if x % 2 == 0:\n",
    "      x = x // 2\n",
    "    else:\n",
    "      x = 3 * x + 1\n",
    "  return n\n",
    "\n",
    "collatz"
   ]
  },
  {
   "cell_type": "code",
   "execution_count": 11,
   "id": "2f8eb35e-67b7-4810-ac07-c0943a2a3fe2",
   "metadata": {},
   "outputs": [
    {
     "name": "stdout",
     "output_type": "stream",
     "text": [
      "-1.0\n",
      "\\mathrm{solve}(a, b, c) = \\frac{-b + \\sqrt{ b^{2} - 4 a c }}{2 a}\n"
     ]
    },
    {
     "data": {
      "text/latex": [
       "$$ \\displaystyle \\mathrm{solve}(a, b, c) = \\frac{-b + \\sqrt{ b^{2} - 4 a c }}{2 a} $$"
      ],
      "text/plain": [
       "<latexify.ipython_wrappers.LatexifiedFunction at 0x7f161418f130>"
      ]
     },
     "execution_count": 11,
     "metadata": {},
     "output_type": "execute_result"
    }
   ],
   "source": [
    "@latexify.function\n",
    "def solve(a, b, c):\n",
    "  return (-b + math.sqrt(b**2 - 4 * a * c)) / (2 * a)\n",
    "\n",
    "# Invoking the function works as expected.\n",
    "print(solve(1, 4, 3))\n",
    "\n",
    "# Printing the function shows the underlying LaTeX source.\n",
    "print(solve)\n",
    "\n",
    "# Displays the expression.\n",
    "solve"
   ]
  },
  {
   "cell_type": "code",
   "execution_count": 12,
   "id": "b6e81e88-9ecb-47d0-a9f8-1e1f3a8b5591",
   "metadata": {},
   "outputs": [
    {
     "data": {
      "text/latex": [
       "$$ \\displaystyle f(a, b, c) = \\frac{-b + \\sqrt{ b^{2} - 4 a c }}{2 a} $$"
      ],
      "text/plain": [
       "<latexify.ipython_wrappers.LatexifiedFunction at 0x7f161418fee0>"
      ]
     },
     "execution_count": 12,
     "metadata": {},
     "output_type": "execute_result"
    }
   ],
   "source": [
    "# Assignments can be reduced into one expression.\n",
    "\n",
    "@latexify.function(reduce_assignments=True)\n",
    "def f(a, b, c):\n",
    "    discriminant = b**2 - 4 * a * c\n",
    "    numerator = -b + math.sqrt(discriminant)\n",
    "    denominator = 2 * a\n",
    "    return numerator / denominator\n",
    "\n",
    "f"
   ]
  },
  {
   "cell_type": "code",
   "execution_count": 13,
   "id": "7c3db6e1-5068-4a8b-9ad1-e1a1915b3e33",
   "metadata": {},
   "outputs": [
    {
     "data": {
      "text/latex": [
       "$$ \\displaystyle \\begin{array}{l} \\mathrm{discriminant} = b^{2} - 4 a c \\\\ \\mathrm{numerator} = -b + \\sqrt{ \\mathrm{discriminant} } \\\\ \\mathrm{denominator} = 2 a \\\\ f(a, b, c) = \\frac{\\mathrm{numerator}}{\\mathrm{denominator}} \\end{array} $$"
      ],
      "text/plain": [
       "<latexify.ipython_wrappers.LatexifiedFunction at 0x7f161ff7d630>"
      ]
     },
     "execution_count": 13,
     "metadata": {},
     "output_type": "execute_result"
    }
   ],
   "source": [
    "@latexify.function(reduce_assignments=False)\n",
    "def f(a, b, c):\n",
    "    discriminant = b**2 - 4 * a * c\n",
    "    numerator = -b + math.sqrt(discriminant)\n",
    "    denominator = 2 * a\n",
    "    return numerator / denominator\n",
    "\n",
    "f"
   ]
  },
  {
   "cell_type": "code",
   "execution_count": 14,
   "id": "5c576078-a822-4191-87ec-f52dc0ca9c53",
   "metadata": {},
   "outputs": [
    {
     "data": {
      "text/latex": [
       "$$ \\displaystyle \\frac{-b + \\sqrt{ b^{2} - 4 a c }}{2 a} $$"
      ],
      "text/plain": [
       "<latexify.ipython_wrappers.LatexifiedFunction at 0x7f161418efe0>"
      ]
     },
     "execution_count": 14,
     "metadata": {},
     "output_type": "execute_result"
    }
   ],
   "source": [
    "# latexify.expression works similarly to latexify.function,\n",
    "# but it prints the function without its signature:\n",
    "\n",
    "@latexify.expression\n",
    "def solve(a, b, c):\n",
    "    return (-b + math.sqrt(b**2 - 4 * a * c)) / (2 * a)\n",
    "\n",
    "solve"
   ]
  },
  {
   "cell_type": "code",
   "execution_count": 15,
   "id": "3da41ec0-c29a-40f5-be2f-ad7e27f17cb2",
   "metadata": {},
   "outputs": [
    {
     "data": {
      "text/latex": [
       "$$ \\displaystyle p + \\frac{1}{2} p v^{2} + \\rho g y = \\mathrm{constant} $$"
      ],
      "text/plain": [
       "<latexify.ipython_wrappers.LatexifiedFunction at 0x7f161ff7e920>"
      ]
     },
     "execution_count": 15,
     "metadata": {},
     "output_type": "execute_result"
    }
   ],
   "source": [
    "# latexify.expression works similarly,\n",
    "# but does not output the signature.\n",
    "\n",
    "@latexify.function(use_math_symbols=True, use_signature=False)\n",
    "def bernoulli_equation():\n",
    "  return (p + (1 / 2) * p * v**2 + rho * g * y == constant)\n",
    "\n",
    "bernoulli_equation"
   ]
  },
  {
   "cell_type": "code",
   "execution_count": 16,
   "id": "5802d326-2d09-4243-9f6b-bd640d954ad3",
   "metadata": {},
   "outputs": [
    {
     "data": {
      "text/latex": [
       "$$ \\displaystyle \\mathrm{Re} = \\frac{\\rho U L}{\\mu} $$"
      ],
      "text/plain": [
       "<latexify.ipython_wrappers.LatexifiedFunction at 0x7f161418ffa0>"
      ]
     },
     "execution_count": 16,
     "metadata": {},
     "output_type": "execute_result"
    }
   ],
   "source": [
    "# latexify.expression works similarly,\n",
    "# but does not output the signature.\n",
    "\n",
    "@latexify.function(use_math_symbols=True, use_signature=False)\n",
    "def reynold_number_equation():\n",
    "  return Re == (rho * U * L) / mu\n",
    "\n",
    "reynold_number_equation"
   ]
  },
  {
   "cell_type": "code",
   "execution_count": 17,
   "id": "d6fa86c7-e98a-4401-96e6-3cc1151be10d",
   "metadata": {},
   "outputs": [
    {
     "data": {
      "text/latex": [
       "$$ \\displaystyle \\mathrm{AL} + \\mathrm{SO} $$"
      ],
      "text/plain": [
       "<latexify.ipython_wrappers.LatexifiedFunction at 0x7f161418f7c0>"
      ]
     },
     "execution_count": 17,
     "metadata": {},
     "output_type": "execute_result"
    }
   ],
   "source": [
    "# latexify.expression works similarly,\n",
    "# but does not output the signature.\n",
    "\n",
    "@latexify.function(use_math_symbols=True, use_signature=False)\n",
    "def aluminium_solution():\n",
    "  return AL + SO\n",
    "\n",
    "aluminium_solution"
   ]
  },
  {
   "cell_type": "code",
   "execution_count": 18,
   "id": "c573935a-5082-4901-9225-03e3ffdb6ac7",
   "metadata": {},
   "outputs": [
    {
     "data": {
      "text/latex": [
       "$$ \\displaystyle f(x, y) = \\mathopen{}\\left( x \\cap y, x \\cup y, x \\setminus y, x \\mathbin{\\triangle} y, x \\subset y, x \\subseteq y, x \\supset y, x \\supseteq y \\mathclose{}\\right) $$"
      ],
      "text/plain": [
       "<latexify.ipython_wrappers.LatexifiedFunction at 0x7f161ff7e710>"
      ]
     },
     "execution_count": 18,
     "metadata": {},
     "output_type": "execute_result"
    }
   ],
   "source": [
    "@latexify.function(use_set_symbols=True)\n",
    "def f(x, y):\n",
    "    return x & y, x | y, x - y, x ^ y, x < y, x <= y, x > y, x >= y\n",
    "\n",
    "f"
   ]
  },
  {
   "cell_type": "code",
   "execution_count": 19,
   "id": "0c275d3b-727f-4b46-af34-c82630c4f4e7",
   "metadata": {},
   "outputs": [
    {
     "data": {
      "text/latex": [
       "$$ \\displaystyle f(x, y) = \\mathopen{}\\left( x \\mathbin{\\&} y, x \\mathbin{|} y, x - y, x \\oplus y, x < y, x \\le y, x > y, x \\ge y \\mathclose{}\\right) $$"
      ],
      "text/plain": [
       "<latexify.ipython_wrappers.LatexifiedFunction at 0x7f161418f6d0>"
      ]
     },
     "execution_count": 19,
     "metadata": {},
     "output_type": "execute_result"
    }
   ],
   "source": [
    "@latexify.function(use_set_symbols=False)\n",
    "def f(x, y):\n",
    "    return x & y, x | y, x - y, x ^ y, x < y, x <= y, x > y, x >= y\n",
    "\n",
    "f"
   ]
  },
  {
   "cell_type": "code",
   "execution_count": 20,
   "id": "2e63fbde-29e8-4971-a776-b20d9ddc7c0e",
   "metadata": {},
   "outputs": [
    {
     "data": {
      "text/latex": [
       "$$ \\displaystyle n(A) = \\mathopen{}\\left( x \\cap y, x \\cup y, x \\setminus y, x \\mathbin{\\triangle} y, x \\subset y, x \\subseteq y, x \\supset y, x \\supseteq y \\mathclose{}\\right) $$"
      ],
      "text/plain": [
       "<latexify.ipython_wrappers.LatexifiedFunction at 0x7f161ff7ec50>"
      ]
     },
     "execution_count": 20,
     "metadata": {},
     "output_type": "execute_result"
    }
   ],
   "source": [
    "@latexify.function(use_set_symbols=True)\n",
    "def n(A):\n",
    "    return x & y, x | y, x - y, x ^ y, x < y, x <= y, x > y, x >= y\n",
    "\n",
    "n"
   ]
  },
  {
   "cell_type": "code",
   "execution_count": 21,
   "id": "95ebee28-1be6-4a84-bdbd-dcbdd906febb",
   "metadata": {},
   "outputs": [
    {
     "data": {
      "text/latex": [
       "$$ \\displaystyle A \\cap B \\cdot \\mathopen{}\\left( x \\cap y, x \\cup y, x \\setminus y, x \\mathbin{\\triangle} y, x \\subset y, x \\subseteq y, x \\supset y, x \\supseteq y \\mathclose{}\\right) $$"
      ],
      "text/plain": [
       "<latexify.ipython_wrappers.LatexifiedFunction at 0x7f161418fa00>"
      ]
     },
     "execution_count": 21,
     "metadata": {},
     "output_type": "execute_result"
    }
   ],
   "source": [
    "@latexify.function(use_set_symbols=True, use_signature=False)\n",
    "def m(A):\n",
    "    return A & B * (x & y, x | y, x - y, x ^ y, x < y, x <= y, x > y, x >= y)\n",
    "\n",
    "m"
   ]
  },
  {
   "cell_type": "code",
   "execution_count": null,
   "id": "0c4ed189-a9e5-4d5a-8504-9c8200a15579",
   "metadata": {},
   "outputs": [],
   "source": []
  }
 ],
 "metadata": {
  "kernelspec": {
   "display_name": "Python 3 (ipykernel)",
   "language": "python",
   "name": "python3"
  },
  "language_info": {
   "codemirror_mode": {
    "name": "ipython",
    "version": 3
   },
   "file_extension": ".py",
   "mimetype": "text/x-python",
   "name": "python",
   "nbconvert_exporter": "python",
   "pygments_lexer": "ipython3",
   "version": "3.10.12"
  }
 },
 "nbformat": 4,
 "nbformat_minor": 5
}
