{
 "cells": [
  {
   "cell_type": "code",
   "execution_count": 1,
   "id": "93bd4fa9-a52a-443f-b97e-6a4cb4a6be34",
   "metadata": {},
   "outputs": [
    {
     "name": "stdout",
     "output_type": "stream",
     "text": [
      "CSV to JSON conversion completed! file_json.json\n"
     ]
    }
   ],
   "source": [
    "import csv\n",
    "import json\n",
    "\n",
    "def csv_to_json(csv_file, json_file):\n",
    "\n",
    "    with open(csv_file, mode=\"r\") as file:\n",
    "        csv_reader = csv.DictReader(file)\n",
    "        data = [row for row in csv_reader]\n",
    "\n",
    "    with open(json_file, mode=\"w\") as file:\n",
    "        json.dump(data, file, indent=4)\n",
    "\n",
    "    print(f\"CSV to JSON conversion completed! {json_file}\")\n",
    "\n",
    "csv_to_json(\"file_csv.csv\", \"file_json.json\")"
   ]
  },
  {
   "cell_type": "code",
   "execution_count": null,
   "id": "61c064aa-8251-42bf-a247-8c0459e40d64",
   "metadata": {},
   "outputs": [],
   "source": []
  }
 ],
 "metadata": {
  "kernelspec": {
   "display_name": "Python 3 (ipykernel)",
   "language": "python",
   "name": "python3"
  },
  "language_info": {
   "codemirror_mode": {
    "name": "ipython",
    "version": 3
   },
   "file_extension": ".py",
   "mimetype": "text/x-python",
   "name": "python",
   "nbconvert_exporter": "python",
   "pygments_lexer": "ipython3",
   "version": "3.10.12"
  }
 },
 "nbformat": 4,
 "nbformat_minor": 5
}
