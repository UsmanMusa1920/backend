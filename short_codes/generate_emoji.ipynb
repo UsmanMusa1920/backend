{
 "cells": [
  {
   "cell_type": "code",
   "execution_count": 1,
   "id": "f188e6fd-161d-4cde-841c-b3dbe751c180",
   "metadata": {},
   "outputs": [],
   "source": [
    "# pip install emoji\n",
    "import emoji\n",
    "\n",
    "def text_to_emoji(text):\n",
    "    return emoji.emojize(text)"
   ]
  },
  {
   "cell_type": "code",
   "execution_count": 2,
   "id": "f4e21bac-3a44-4c68-8b39-31736b491fbc",
   "metadata": {},
   "outputs": [
    {
     "name": "stdout",
     "output_type": "stream",
     "text": [
      "📚\n"
     ]
    }
   ],
   "source": [
    "print(text_to_emoji(\":books:\"))"
   ]
  },
  {
   "cell_type": "code",
   "execution_count": 6,
   "id": "beddc38a-292f-4d54-a9d5-6d100cb7c545",
   "metadata": {},
   "outputs": [
    {
     "name": "stdout",
     "output_type": "stream",
     "text": [
      "💻\n"
     ]
    }
   ],
   "source": [
    "print(text_to_emoji(\":laptop:\"))"
   ]
  },
  {
   "cell_type": "code",
   "execution_count": 4,
   "id": "190f00d8-323d-4ff5-9653-e3f82ad7bba2",
   "metadata": {},
   "outputs": [
    {
     "name": "stdout",
     "output_type": "stream",
     "text": [
      "👦\n"
     ]
    }
   ],
   "source": [
    "print(text_to_emoji(\":boy:\"))"
   ]
  },
  {
   "cell_type": "code",
   "execution_count": 9,
   "id": "8438653c-500a-4182-8157-d1bce7a333cd",
   "metadata": {},
   "outputs": [
    {
     "name": "stdout",
     "output_type": "stream",
     "text": [
      "⌨️\n"
     ]
    }
   ],
   "source": [
    "print(text_to_emoji(\":keyboard:\"))"
   ]
  },
  {
   "cell_type": "code",
   "execution_count": 10,
   "id": "468fd6a6-3a02-4125-b109-1285e7b9653a",
   "metadata": {},
   "outputs": [
    {
     "name": "stdout",
     "output_type": "stream",
     "text": [
      "🖊️\n"
     ]
    }
   ],
   "source": [
    "print(text_to_emoji(\":pen:\"))"
   ]
  },
  {
   "cell_type": "code",
   "execution_count": 12,
   "id": "540b1397-311d-4cb2-871c-a4c7605618d4",
   "metadata": {},
   "outputs": [
    {
     "name": "stdout",
     "output_type": "stream",
     "text": [
      "🏠\n"
     ]
    }
   ],
   "source": [
    "print(text_to_emoji(\":house:\"))"
   ]
  },
  {
   "cell_type": "code",
   "execution_count": 25,
   "id": "62983023-94ac-436a-b0ce-1c9c53e0b80f",
   "metadata": {},
   "outputs": [
    {
     "name": "stdout",
     "output_type": "stream",
     "text": [
      "🏫\n"
     ]
    }
   ],
   "source": [
    "print(text_to_emoji(\":school:\"))"
   ]
  },
  {
   "cell_type": "code",
   "execution_count": 27,
   "id": "cb2b8219-3a04-4d1e-932e-effcb876d2ef",
   "metadata": {},
   "outputs": [
    {
     "name": "stdout",
     "output_type": "stream",
     "text": [
      "🔔\n"
     ]
    }
   ],
   "source": [
    "print(text_to_emoji(\":bell:\"))"
   ]
  },
  {
   "cell_type": "code",
   "execution_count": null,
   "id": "fa46e131-a064-433e-864a-e771ceb71ad0",
   "metadata": {},
   "outputs": [],
   "source": []
  }
 ],
 "metadata": {
  "kernelspec": {
   "display_name": "Python 3 (ipykernel)",
   "language": "python",
   "name": "python3"
  },
  "language_info": {
   "codemirror_mode": {
    "name": "ipython",
    "version": 3
   },
   "file_extension": ".py",
   "mimetype": "text/x-python",
   "name": "python",
   "nbconvert_exporter": "python",
   "pygments_lexer": "ipython3",
   "version": "3.10.12"
  }
 },
 "nbformat": 4,
 "nbformat_minor": 5
}
