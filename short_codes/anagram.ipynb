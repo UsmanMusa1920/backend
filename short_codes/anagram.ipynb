{
 "cells": [
  {
   "cell_type": "code",
   "execution_count": 1,
   "id": "d121d552-0e58-4ac1-a278-73448460912a",
   "metadata": {},
   "outputs": [],
   "source": [
    "def anagram(word1, word2):\n",
    "    word1 = word1.lower()\n",
    "    word2 = word2.lower()\n",
    "    return sorted(word1) == sorted(word2)"
   ]
  },
  {
   "cell_type": "code",
   "execution_count": 2,
   "id": "baee4be0-70ed-43fb-af8e-e3e0aea50a62",
   "metadata": {},
   "outputs": [
    {
     "name": "stdout",
     "output_type": "stream",
     "text": [
      "False\n",
      "True\n",
      "True\n",
      "False\n"
     ]
    }
   ],
   "source": [
    "print(anagram(\"muslin\", \"limsum\"))\n",
    "print(anagram(\"cool\", \"looc\"))\n",
    "print(anagram(\"python\", \"thonpy\"))\n",
    "print(anagram(\"zoom\", \"zooms\"))"
   ]
  },
  {
   "cell_type": "code",
   "execution_count": null,
   "id": "ec600cf9-87d3-484a-b5a8-1817084cab7e",
   "metadata": {},
   "outputs": [],
   "source": []
  }
 ],
 "metadata": {
  "kernelspec": {
   "display_name": "Python 3 (ipykernel)",
   "language": "python",
   "name": "python3"
  },
  "language_info": {
   "codemirror_mode": {
    "name": "ipython",
    "version": 3
   },
   "file_extension": ".py",
   "mimetype": "text/x-python",
   "name": "python",
   "nbconvert_exporter": "python",
   "pygments_lexer": "ipython3",
   "version": "3.10.12"
  }
 },
 "nbformat": 4,
 "nbformat_minor": 5
}
