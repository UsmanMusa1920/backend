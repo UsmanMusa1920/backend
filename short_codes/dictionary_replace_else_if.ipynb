{
 "cells": [
  {
   "cell_type": "code",
   "execution_count": 2,
   "id": "e12cd84c-ce8b-4a7c-93ec-8b2b26f351cc",
   "metadata": {},
   "outputs": [
    {
     "name": "stdin",
     "output_type": "stream",
     "text": [
      "Enter Food Item Name:  Juice\n"
     ]
    },
    {
     "name": "stdout",
     "output_type": "stream",
     "text": [
      "300\n"
     ]
    }
   ],
   "source": [
    "food_item = input(\"Enter Food Item Name: \")\n",
    "\n",
    "food_items_dict = {\n",
    "    \"Burger\": 100,\n",
    "    \"Pizza\": 200,\n",
    "    \"Juice\": 300,\n",
    "    \"Tofu\": 400,\n",
    "}\n",
    "\n",
    "def get_price(food_item):\n",
    "    return food_items_dict.get(food_item, 0)\n",
    "\n",
    "print(get_price(food_item))"
   ]
  },
  {
   "cell_type": "code",
   "execution_count": null,
   "id": "54f1b8b7-936d-43c2-a213-031629dc5c6d",
   "metadata": {},
   "outputs": [],
   "source": []
  }
 ],
 "metadata": {
  "kernelspec": {
   "display_name": "Python 3 (ipykernel)",
   "language": "python",
   "name": "python3"
  },
  "language_info": {
   "codemirror_mode": {
    "name": "ipython",
    "version": 3
   },
   "file_extension": ".py",
   "mimetype": "text/x-python",
   "name": "python",
   "nbconvert_exporter": "python",
   "pygments_lexer": "ipython3",
   "version": "3.10.12"
  }
 },
 "nbformat": 4,
 "nbformat_minor": 5
}
