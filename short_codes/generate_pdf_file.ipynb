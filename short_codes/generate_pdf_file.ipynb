{
 "cells": [
  {
   "cell_type": "code",
   "execution_count": 1,
   "id": "e485b1cf-edae-4225-84de-778b9955d5f7",
   "metadata": {},
   "outputs": [],
   "source": [
    "# pip install reportlab\n",
    "from IPython.display import IFrame\n",
    "from reportlab.pdfgen import canvas\n",
    "\n",
    "pdf_file = canvas.Canvas(\"my_file.pdf\")\n",
    "\n",
    "pdf_file.drawString(72, 720, \"Good day,\")\n",
    "pdf_file.drawString(72, 700, \"I am Usman, about to say something related to Saudi Arabia.\")\n",
    "pdf_file.drawString(72, 680, \"Saudi Arabia, officially the Kingdom of Saudi Arabia, is a country in Western Asia.\")\n",
    "pdf_file.drawString(72, 660, \"It covers the bulk of the Arabian Peninsula and has a land area of about 2,150,000 km².\")\n",
    "pdf_file.drawString(72, 640, \"Making it the fifth-largest country in Asia and the largest in the Middle East.\")\n",
    "pdf_file.drawString(72, 620, \"Thank you for listening!\")\n",
    "\n",
    "pdf_file.save()"
   ]
  },
  {
   "cell_type": "code",
   "execution_count": 2,
   "id": "46eb254a-991c-4fec-8221-fcdf9a9b6b7e",
   "metadata": {},
   "outputs": [
    {
     "data": {
      "text/html": [
       "\n",
       "        <iframe\n",
       "            width=\"500\"\n",
       "            height=\"500\"\n",
       "            src=\"my_file.pdf\"\n",
       "            frameborder=\"0\"\n",
       "            allowfullscreen\n",
       "            \n",
       "        ></iframe>\n",
       "        "
      ],
      "text/plain": [
       "<IPython.lib.display.IFrame at 0x7f07ac303e20>"
      ]
     },
     "execution_count": 2,
     "metadata": {},
     "output_type": "execute_result"
    }
   ],
   "source": [
    "IFrame(\"my_file.pdf\", width=500, height=500)"
   ]
  },
  {
   "cell_type": "code",
   "execution_count": null,
   "id": "6a65ec74-005c-4fe8-98a9-76453f59e5ea",
   "metadata": {},
   "outputs": [],
   "source": []
  }
 ],
 "metadata": {
  "kernelspec": {
   "display_name": "Python 3 (ipykernel)",
   "language": "python",
   "name": "python3"
  },
  "language_info": {
   "codemirror_mode": {
    "name": "ipython",
    "version": 3
   },
   "file_extension": ".py",
   "mimetype": "text/x-python",
   "name": "python",
   "nbconvert_exporter": "python",
   "pygments_lexer": "ipython3",
   "version": "3.10.12"
  }
 },
 "nbformat": 4,
 "nbformat_minor": 5
}
