{
 "cells": [
  {
   "cell_type": "code",
   "execution_count": 1,
   "id": "5afec21e-6b51-4ceb-9552-d53676a52dac",
   "metadata": {},
   "outputs": [],
   "source": [
    "import time\n",
    "import turtle\n",
    "\n",
    "t = turtle.Turtle()\n",
    "s = turtle.Screen()\n",
    "\n",
    "colors = [\n",
    "    \"orange\", \"red\", \"magenta\",\n",
    "    \"blue\", \"magenta\", \"yellow\",\n",
    "    \"green\", \"cyan\", \"purple\"\n",
    "]\n",
    "\n",
    "s.bgcolor(\"black\")\n",
    "t.pensize(\"2\")\n",
    "t.speed(0)\n",
    "\n",
    "for x in range(360):\n",
    "    t.pencolor(colors[x % 6])\n",
    "    t.width(x // 100 + 1)\n",
    "    t.forward(x)\n",
    "    t.right(59)\n",
    "    turtle.hideturtle()\n",
    "\n",
    "time.sleep(3)\n",
    "exit()"
   ]
  },
  {
   "cell_type": "code",
   "execution_count": null,
   "id": "7cc47165-1951-4a82-ad02-1c92dc1bdd28",
   "metadata": {},
   "outputs": [],
   "source": []
  }
 ],
 "metadata": {
  "kernelspec": {
   "display_name": "Python 3 (ipykernel)",
   "language": "python",
   "name": "python3"
  },
  "language_info": {
   "codemirror_mode": {
    "name": "ipython",
    "version": 3
   },
   "file_extension": ".py",
   "mimetype": "text/x-python",
   "name": "python",
   "nbconvert_exporter": "python",
   "pygments_lexer": "ipython3",
   "version": "3.10.12"
  }
 },
 "nbformat": 4,
 "nbformat_minor": 5
}
