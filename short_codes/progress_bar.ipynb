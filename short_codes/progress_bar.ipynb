{
 "cells": [
  {
   "cell_type": "code",
   "execution_count": 1,
   "id": "ba2c3c9a-c18c-4162-9884-a82f8f95d2cd",
   "metadata": {},
   "outputs": [],
   "source": [
    "# pip install rich\n",
    "import time\n",
    "from rich.progress import Progress\n",
    "\n",
    "def progress_bar(speed=0.2, advance=10, total=100):\n",
    "    with Progress() as progress:\n",
    "        task = progress.add_task(\n",
    "            \"[cyan]Downloading...\",\n",
    "            total = total\n",
    "        )\n",
    "    \n",
    "        while not progress.finished:\n",
    "            progress.update(task, advance=advance)\n",
    "            time.sleep(speed)"
   ]
  },
  {
   "cell_type": "code",
   "execution_count": 2,
   "id": "1cd3b42f-ce43-48ef-b304-7a35a227f62d",
   "metadata": {},
   "outputs": [
    {
     "data": {
      "application/vnd.jupyter.widget-view+json": {
       "model_id": "d53e1fdaf6564214b1ecdd1df2ade40c",
       "version_major": 2,
       "version_minor": 0
      },
      "text/plain": [
       "Output()"
      ]
     },
     "metadata": {},
     "output_type": "display_data"
    },
    {
     "data": {
      "text/html": [
       "<pre style=\"white-space:pre;overflow-x:auto;line-height:normal;font-family:Menlo,'DejaVu Sans Mono',consolas,'Courier New',monospace\"></pre>\n"
      ],
      "text/plain": []
     },
     "metadata": {},
     "output_type": "display_data"
    }
   ],
   "source": [
    "progress_bar()"
   ]
  },
  {
   "cell_type": "code",
   "execution_count": 3,
   "id": "62521b50-b2ef-4b0b-aba7-1274483a1053",
   "metadata": {},
   "outputs": [
    {
     "data": {
      "application/vnd.jupyter.widget-view+json": {
       "model_id": "affaca8e6e65454392cdf0aa7dc8989b",
       "version_major": 2,
       "version_minor": 0
      },
      "text/plain": [
       "Output()"
      ]
     },
     "metadata": {},
     "output_type": "display_data"
    },
    {
     "data": {
      "text/html": [
       "<pre style=\"white-space:pre;overflow-x:auto;line-height:normal;font-family:Menlo,'DejaVu Sans Mono',consolas,'Courier New',monospace\"></pre>\n"
      ],
      "text/plain": []
     },
     "metadata": {},
     "output_type": "display_data"
    }
   ],
   "source": [
    "progress_bar(1, 10, total=80)"
   ]
  },
  {
   "cell_type": "code",
   "execution_count": null,
   "id": "a59eab23-3819-48d0-bc27-2c95449d75fc",
   "metadata": {},
   "outputs": [],
   "source": []
  }
 ],
 "metadata": {
  "kernelspec": {
   "display_name": "Python 3 (ipykernel)",
   "language": "python",
   "name": "python3"
  },
  "language_info": {
   "codemirror_mode": {
    "name": "ipython",
    "version": 3
   },
   "file_extension": ".py",
   "mimetype": "text/x-python",
   "name": "python",
   "nbconvert_exporter": "python",
   "pygments_lexer": "ipython3",
   "version": "3.10.12"
  }
 },
 "nbformat": 4,
 "nbformat_minor": 5
}
