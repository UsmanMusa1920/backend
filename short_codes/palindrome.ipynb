{
 "cells": [
  {
   "cell_type": "code",
   "execution_count": 1,
   "id": "8fd14829-7f5c-4cd1-aaab-8bef77e9b013",
   "metadata": {},
   "outputs": [],
   "source": [
    "# check if string is in palindrome using\n",
    "# inbuilt function of reverse.\n",
    "\n",
    "def check_str_palindrome(string):\n",
    "    pal = \"\".join(reversed(string))\n",
    "    \n",
    "    if pal == string:\n",
    "        print(f\"Yes, {string} is in palindrome \\nTrue\")\n",
    "    else:\n",
    "        print(f\"No, {string} is in palindrome \\nFalse\")"
   ]
  },
  {
   "cell_type": "code",
   "execution_count": 2,
   "id": "e0655319-9cb2-465c-a61a-6708a18bd6d7",
   "metadata": {},
   "outputs": [
    {
     "name": "stdout",
     "output_type": "stream",
     "text": [
      "Yes, civic is in palindrome \n",
      "True\n"
     ]
    }
   ],
   "source": [
    "civic = \"civic\"\n",
    "\n",
    "check_str_palindrome(civic)"
   ]
  },
  {
   "cell_type": "code",
   "execution_count": 3,
   "id": "94b40777-d9fc-4dbc-af80-fda5527e49d9",
   "metadata": {},
   "outputs": [
    {
     "name": "stdout",
     "output_type": "stream",
     "text": [
      "Yes, level is in palindrome \n",
      "True\n"
     ]
    }
   ],
   "source": [
    "level = \"level\"\n",
    "\n",
    "check_str_palindrome(level)"
   ]
  },
  {
   "cell_type": "code",
   "execution_count": 4,
   "id": "bdd5a4af-f346-446e-b11c-8e1c82e932cb",
   "metadata": {},
   "outputs": [
    {
     "name": "stdout",
     "output_type": "stream",
     "text": [
      "No, 0123456789 is in palindrome \n",
      "False\n"
     ]
    }
   ],
   "source": [
    "numbers = \"0123456789\"\n",
    "\n",
    "check_str_palindrome(numbers)"
   ]
  },
  {
   "cell_type": "code",
   "execution_count": 5,
   "id": "49c72c98-0eae-46ab-9fbe-a94e86cc5c78",
   "metadata": {},
   "outputs": [
    {
     "data": {
      "text/plain": [
       "'9876543210'"
      ]
     },
     "execution_count": 5,
     "metadata": {},
     "output_type": "execute_result"
    }
   ],
   "source": [
    "# simple way to reverse string in python\n",
    "\n",
    "numbers[::-1]"
   ]
  },
  {
   "cell_type": "code",
   "execution_count": 6,
   "id": "bf563471-c742-4d63-8934-c7655451f539",
   "metadata": {},
   "outputs": [],
   "source": [
    "# check if list is in palindrome using\n",
    "# reverse & extend method of list.\n",
    "\n",
    "def check_list_palindrome(lst):\n",
    "    ext = []\n",
    "    ext.extend(lst)\n",
    "    lst.reverse()\n",
    "    \n",
    "    if lst == ext:\n",
    "        print(f\"Yes, {lst} is in palindrome \\nTrue\")\n",
    "    else:\n",
    "        print(f\"No, {lst} is in palindrome \\nFalse\")"
   ]
  },
  {
   "cell_type": "code",
   "execution_count": 7,
   "id": "58ef0259-4c9a-489a-b3ec-1655e3568599",
   "metadata": {},
   "outputs": [
    {
     "name": "stdout",
     "output_type": "stream",
     "text": [
      "No, ['Benjamin', 'John', 'Adam', 'Usman', 'Kamallah'] is in palindrome \n",
      "False\n"
     ]
    }
   ],
   "source": [
    "names = [\"Kamallah\", \"Usman\", \"Adam\", \"John\", \"Benjamin\"]\n",
    "\n",
    "check_list_palindrome(names)"
   ]
  },
  {
   "cell_type": "code",
   "execution_count": 8,
   "id": "d85f785f-a5cf-4d9f-ae9d-12b90037a5f4",
   "metadata": {},
   "outputs": [
    {
     "name": "stdout",
     "output_type": "stream",
     "text": [
      "Yes, ['IBM', 'SpaceX', 'NASA', 'SpaceX', 'IBM'] is in palindrome \n",
      "True\n"
     ]
    }
   ],
   "source": [
    "companies = [\"IBM\", \"SpaceX\", \"NASA\", \"SpaceX\", \"IBM\"]\n",
    "\n",
    "check_list_palindrome(companies)"
   ]
  },
  {
   "cell_type": "code",
   "execution_count": null,
   "id": "afd6a35c-22fb-435d-9143-4bb59f1e83e3",
   "metadata": {},
   "outputs": [],
   "source": []
  }
 ],
 "metadata": {
  "kernelspec": {
   "display_name": "Python 3 (ipykernel)",
   "language": "python",
   "name": "python3"
  },
  "language_info": {
   "codemirror_mode": {
    "name": "ipython",
    "version": 3
   },
   "file_extension": ".py",
   "mimetype": "text/x-python",
   "name": "python",
   "nbconvert_exporter": "python",
   "pygments_lexer": "ipython3",
   "version": "3.10.12"
  }
 },
 "nbformat": 4,
 "nbformat_minor": 5
}
