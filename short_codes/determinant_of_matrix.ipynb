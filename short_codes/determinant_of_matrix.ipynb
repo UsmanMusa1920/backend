{
 "cells": [
  {
   "cell_type": "code",
   "execution_count": 1,
   "id": "d00238d9-35fd-406a-91bb-67b4a21bac98",
   "metadata": {},
   "outputs": [
    {
     "name": "stdout",
     "output_type": "stream",
     "text": [
      "[[ 4  5 16  7]\n",
      " [ 2 -3  2  3]\n",
      " [ 3  4  5  6]\n",
      " [ 4  7  8  9]]\n"
     ]
    }
   ],
   "source": [
    "import numpy as np\n",
    "\n",
    "x = np.matrix(\n",
    "    \"4,5,16,7;2,-3,2,3;3,4,5,6;4,7,8,9\"\n",
    ")\n",
    "\n",
    "print(x)"
   ]
  },
  {
   "cell_type": "code",
   "execution_count": 2,
   "id": "77cdadf3-d555-43a2-b28a-e1f36a75c223",
   "metadata": {},
   "outputs": [
    {
     "name": "stdout",
     "output_type": "stream",
     "text": [
      "128.00000000000009\n"
     ]
    }
   ],
   "source": [
    "det_matrix = np.linalg.det(x)\n",
    "print(det_matrix)"
   ]
  },
  {
   "cell_type": "code",
   "execution_count": null,
   "id": "d54f7707-4a1d-4e92-af1f-8cd8fe7e5d82",
   "metadata": {},
   "outputs": [],
   "source": []
  }
 ],
 "metadata": {
  "kernelspec": {
   "display_name": "Python 3 (ipykernel)",
   "language": "python",
   "name": "python3"
  },
  "language_info": {
   "codemirror_mode": {
    "name": "ipython",
    "version": 3
   },
   "file_extension": ".py",
   "mimetype": "text/x-python",
   "name": "python",
   "nbconvert_exporter": "python",
   "pygments_lexer": "ipython3",
   "version": "3.10.12"
  }
 },
 "nbformat": 4,
 "nbformat_minor": 5
}
