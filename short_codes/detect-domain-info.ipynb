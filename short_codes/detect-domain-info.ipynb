{
 "cells": [
  {
   "cell_type": "code",
   "execution_count": 1,
   "id": "8c9a33e6-721c-401f-a76d-91a0c2c6c7b4",
   "metadata": {},
   "outputs": [],
   "source": [
    "from dipense.drone import whois as wh"
   ]
  },
  {
   "cell_type": "code",
   "execution_count": 2,
   "id": "f542fdef-02ed-41bd-827f-f58912f74ef6",
   "metadata": {},
   "outputs": [
    {
     "data": {
      "text/plain": [
       "{'domain_name': ['GOOGLE.COM', 'google.com'],\n",
       " 'registrar': 'MarkMonitor, Inc.',\n",
       " 'whois_server': 'whois.markmonitor.com',\n",
       " 'referral_url': None,\n",
       " 'updated_date': [datetime.datetime(2019, 9, 9, 15, 39, 4),\n",
       "  datetime.datetime(2024, 8, 2, 2, 17, 33, tzinfo=datetime.timezone.utc)],\n",
       " 'creation_date': [datetime.datetime(1997, 9, 15, 4, 0),\n",
       "  datetime.datetime(1997, 9, 15, 7, 0, tzinfo=datetime.timezone.utc)],\n",
       " 'expiration_date': [datetime.datetime(2028, 9, 14, 4, 0),\n",
       "  datetime.datetime(2028, 9, 13, 7, 0, tzinfo=datetime.timezone.utc)],\n",
       " 'name_servers': ['NS1.GOOGLE.COM',\n",
       "  'NS2.GOOGLE.COM',\n",
       "  'NS3.GOOGLE.COM',\n",
       "  'NS4.GOOGLE.COM',\n",
       "  'ns3.google.com',\n",
       "  'ns4.google.com',\n",
       "  'ns1.google.com',\n",
       "  'ns2.google.com'],\n",
       " 'status': ['clientDeleteProhibited https://icann.org/epp#clientDeleteProhibited',\n",
       "  'clientTransferProhibited https://icann.org/epp#clientTransferProhibited',\n",
       "  'clientUpdateProhibited https://icann.org/epp#clientUpdateProhibited',\n",
       "  'serverDeleteProhibited https://icann.org/epp#serverDeleteProhibited',\n",
       "  'serverTransferProhibited https://icann.org/epp#serverTransferProhibited',\n",
       "  'serverUpdateProhibited https://icann.org/epp#serverUpdateProhibited',\n",
       "  'clientUpdateProhibited (https://www.icann.org/epp#clientUpdateProhibited)',\n",
       "  'clientTransferProhibited (https://www.icann.org/epp#clientTransferProhibited)',\n",
       "  'clientDeleteProhibited (https://www.icann.org/epp#clientDeleteProhibited)',\n",
       "  'serverUpdateProhibited (https://www.icann.org/epp#serverUpdateProhibited)',\n",
       "  'serverTransferProhibited (https://www.icann.org/epp#serverTransferProhibited)',\n",
       "  'serverDeleteProhibited (https://www.icann.org/epp#serverDeleteProhibited)'],\n",
       " 'emails': ['abusecomplaints@markmonitor.com', 'whoisrequest@markmonitor.com'],\n",
       " 'dnssec': 'unsigned',\n",
       " 'name': None,\n",
       " 'org': 'Google LLC',\n",
       " 'address': None,\n",
       " 'city': None,\n",
       " 'state': 'CA',\n",
       " 'registrant_postal_code': None,\n",
       " 'country': 'US'}"
      ]
     },
     "execution_count": 2,
     "metadata": {},
     "output_type": "execute_result"
    }
   ],
   "source": [
    "howis = wh.whois(\"google.com\")\n",
    "\n",
    "howis"
   ]
  },
  {
   "cell_type": "code",
   "execution_count": 3,
   "id": "37c39864-601f-4dd5-8263-c0f733b74fe6",
   "metadata": {},
   "outputs": [
    {
     "data": {
      "text/plain": [
       "{'domain_name': 'FACEBOOK.COM',\n",
       " 'registrar': 'RegistrarSafe, LLC',\n",
       " 'whois_server': 'whois.registrarsafe.com',\n",
       " 'referral_url': None,\n",
       " 'updated_date': [datetime.datetime(2024, 4, 24, 19, 6, 12),\n",
       "  datetime.datetime(2024, 4, 24, 19, 6, 13)],\n",
       " 'creation_date': datetime.datetime(1997, 3, 29, 5, 0),\n",
       " 'expiration_date': datetime.datetime(2033, 3, 30, 4, 0),\n",
       " 'name_servers': ['A.NS.FACEBOOK.COM',\n",
       "  'B.NS.FACEBOOK.COM',\n",
       "  'C.NS.FACEBOOK.COM',\n",
       "  'D.NS.FACEBOOK.COM'],\n",
       " 'status': ['clientDeleteProhibited https://icann.org/epp#clientDeleteProhibited',\n",
       "  'clientTransferProhibited https://icann.org/epp#clientTransferProhibited',\n",
       "  'clientUpdateProhibited https://icann.org/epp#clientUpdateProhibited',\n",
       "  'serverDeleteProhibited https://icann.org/epp#serverDeleteProhibited',\n",
       "  'serverTransferProhibited https://icann.org/epp#serverTransferProhibited',\n",
       "  'serverUpdateProhibited https://icann.org/epp#serverUpdateProhibited',\n",
       "  'clientDeleteProhibited https://www.icann.org/epp#clientDeleteProhibited',\n",
       "  'clientTransferProhibited https://www.icann.org/epp#clientTransferProhibited',\n",
       "  'clientUpdateProhibited https://www.icann.org/epp#clientUpdateProhibited',\n",
       "  'serverDeleteProhibited https://www.icann.org/epp#serverDeleteProhibited',\n",
       "  'serverTransferProhibited https://www.icann.org/epp#serverTransferProhibited',\n",
       "  'serverUpdateProhibited https://www.icann.org/epp#serverUpdateProhibited'],\n",
       " 'emails': ['abusecomplaints@registrarsafe.com', 'domain@fb.com'],\n",
       " 'dnssec': 'unsigned',\n",
       " 'name': 'Domain Admin',\n",
       " 'org': 'Meta Platforms, Inc.',\n",
       " 'address': '1601 Willow Rd',\n",
       " 'city': 'Menlo Park',\n",
       " 'state': 'CA',\n",
       " 'registrant_postal_code': '94025',\n",
       " 'country': 'US'}"
      ]
     },
     "execution_count": 3,
     "metadata": {},
     "output_type": "execute_result"
    }
   ],
   "source": [
    "howis = wh.whois(\"facebook.com\")\n",
    "\n",
    "howis"
   ]
  },
  {
   "cell_type": "code",
   "execution_count": 4,
   "id": "b8b24aad-186f-414d-aec2-0da60b932ec2",
   "metadata": {},
   "outputs": [
    {
     "data": {
      "text/plain": [
       "{'domain_name': ['X.COM', 'x.com'],\n",
       " 'registrar': 'GoDaddy.com, LLC',\n",
       " 'whois_server': 'whois.godaddy.com',\n",
       " 'referral_url': None,\n",
       " 'updated_date': [datetime.datetime(2024, 1, 12, 19, 32, 36),\n",
       "  datetime.datetime(2017, 7, 5, 16, 2, 43)],\n",
       " 'creation_date': [datetime.datetime(1993, 4, 2, 5, 0),\n",
       "  datetime.datetime(1993, 4, 2, 0, 0)],\n",
       " 'expiration_date': [datetime.datetime(2026, 10, 20, 19, 56, 17),\n",
       "  datetime.datetime(2026, 10, 20, 14, 56, 17)],\n",
       " 'name_servers': ['A.R10.TWTRDNS.NET',\n",
       "  'A.U10.TWTRDNS.NET',\n",
       "  'B.R10.TWTRDNS.NET',\n",
       "  'B.U10.TWTRDNS.NET',\n",
       "  'C.R10.TWTRDNS.NET',\n",
       "  'C.U10.TWTRDNS.NET',\n",
       "  'D.R10.TWTRDNS.NET',\n",
       "  'D.U10.TWTRDNS.NET'],\n",
       " 'status': ['clientDeleteProhibited https://icann.org/epp#clientDeleteProhibited',\n",
       "  'clientRenewProhibited https://icann.org/epp#clientRenewProhibited',\n",
       "  'clientTransferProhibited https://icann.org/epp#clientTransferProhibited',\n",
       "  'clientUpdateProhibited https://icann.org/epp#clientUpdateProhibited'],\n",
       " 'emails': 'abuse@godaddy.com',\n",
       " 'dnssec': 'unsigned',\n",
       " 'name': 'Registration Private',\n",
       " 'org': 'Domains By Proxy, LLC',\n",
       " 'address': ['DomainsByProxy.com', '100 S. Mill Ave, Suite 1600'],\n",
       " 'city': 'Tempe',\n",
       " 'state': 'Arizona',\n",
       " 'registrant_postal_code': '85281',\n",
       " 'country': 'US'}"
      ]
     },
     "execution_count": 4,
     "metadata": {},
     "output_type": "execute_result"
    }
   ],
   "source": [
    "howis = wh.whois(\"x.com\")\n",
    "\n",
    "howis"
   ]
  },
  {
   "cell_type": "code",
   "execution_count": 5,
   "id": "bac7f404-e6bd-4a4b-b5f7-6779b52eefba",
   "metadata": {},
   "outputs": [
    {
     "data": {
      "text/plain": [
       "{'domain_name': ['TWITTER.COM', 'twitter.com'],\n",
       " 'registrar': 'CSC CORPORATE DOMAINS, INC.',\n",
       " 'whois_server': 'whois.corporatedomains.com',\n",
       " 'referral_url': None,\n",
       " 'updated_date': [datetime.datetime(2024, 1, 17, 6, 10, 5),\n",
       "  datetime.datetime(2024, 1, 17, 1, 10, 5)],\n",
       " 'creation_date': [datetime.datetime(2000, 1, 21, 16, 28, 17),\n",
       "  datetime.datetime(2000, 1, 21, 11, 28, 17)],\n",
       " 'expiration_date': datetime.datetime(2025, 1, 21, 16, 28, 17),\n",
       " 'name_servers': ['A.R06.TWTRDNS.NET',\n",
       "  'A.U06.TWTRDNS.NET',\n",
       "  'B.R06.TWTRDNS.NET',\n",
       "  'B.U06.TWTRDNS.NET',\n",
       "  'C.R06.TWTRDNS.NET',\n",
       "  'C.U06.TWTRDNS.NET',\n",
       "  'D.R06.TWTRDNS.NET',\n",
       "  'D.U06.TWTRDNS.NET',\n",
       "  'c.u06.twtrdns.net',\n",
       "  'c.r06.twtrdns.net',\n",
       "  'a.u06.twtrdns.net',\n",
       "  'a.r06.twtrdns.net',\n",
       "  'd.r06.twtrdns.net',\n",
       "  'b.u06.twtrdns.net',\n",
       "  'b.r06.twtrdns.net',\n",
       "  'd.u06.twtrdns.net'],\n",
       " 'status': ['clientTransferProhibited https://icann.org/epp#clientTransferProhibited',\n",
       "  'serverDeleteProhibited https://icann.org/epp#serverDeleteProhibited',\n",
       "  'serverTransferProhibited https://icann.org/epp#serverTransferProhibited',\n",
       "  'serverUpdateProhibited https://icann.org/epp#serverUpdateProhibited',\n",
       "  'clientTransferProhibited http://www.icann.org/epp#clientTransferProhibited',\n",
       "  'serverDeleteProhibited http://www.icann.org/epp#serverDeleteProhibited',\n",
       "  'serverTransferProhibited http://www.icann.org/epp#serverTransferProhibited',\n",
       "  'serverUpdateProhibited http://www.icann.org/epp#serverUpdateProhibited'],\n",
       " 'emails': ['domainabuse@cscglobal.com',\n",
       "  'domains@twitter.com',\n",
       "  'domains-tech@twitter.com'],\n",
       " 'dnssec': 'unsigned',\n",
       " 'name': 'Twitter, Inc.',\n",
       " 'org': 'Twitter, Inc.',\n",
       " 'address': '1355 Market Street',\n",
       " 'city': 'San Francisco',\n",
       " 'state': 'CA',\n",
       " 'registrant_postal_code': '94103',\n",
       " 'country': 'US'}"
      ]
     },
     "execution_count": 5,
     "metadata": {},
     "output_type": "execute_result"
    }
   ],
   "source": [
    "howis = wh.whois(\"twitter.com\")\n",
    "\n",
    "howis"
   ]
  },
  {
   "cell_type": "code",
   "execution_count": 6,
   "id": "ec3e68ba-092b-4f44-8949-e320835d3a1e",
   "metadata": {},
   "outputs": [
    {
     "data": {
      "text/plain": [
       "{'domain_name': ['GITHUB.COM', 'github.com'],\n",
       " 'registrar': 'MarkMonitor, Inc.',\n",
       " 'whois_server': 'whois.markmonitor.com',\n",
       " 'referral_url': None,\n",
       " 'updated_date': [datetime.datetime(2022, 9, 7, 9, 10, 44),\n",
       "  datetime.datetime(2022, 9, 7, 9, 10, 44, tzinfo=datetime.timezone.utc)],\n",
       " 'creation_date': [datetime.datetime(2007, 10, 9, 18, 20, 50),\n",
       "  datetime.datetime(2007, 10, 9, 18, 20, 50, tzinfo=datetime.timezone.utc)],\n",
       " 'expiration_date': [datetime.datetime(2024, 10, 9, 18, 20, 50),\n",
       "  datetime.datetime(2024, 10, 9, 0, 0, tzinfo=datetime.timezone.utc)],\n",
       " 'name_servers': ['DNS1.P08.NSONE.NET',\n",
       "  'DNS2.P08.NSONE.NET',\n",
       "  'DNS3.P08.NSONE.NET',\n",
       "  'DNS4.P08.NSONE.NET',\n",
       "  'NS-1283.AWSDNS-32.ORG',\n",
       "  'NS-1707.AWSDNS-21.CO.UK',\n",
       "  'NS-421.AWSDNS-52.COM',\n",
       "  'NS-520.AWSDNS-01.NET',\n",
       "  'ns-1707.awsdns-21.co.uk',\n",
       "  'ns-1283.awsdns-32.org',\n",
       "  'ns-520.awsdns-01.net',\n",
       "  'dns2.p08.nsone.net',\n",
       "  'dns3.p08.nsone.net',\n",
       "  'dns4.p08.nsone.net',\n",
       "  'ns-421.awsdns-52.com',\n",
       "  'dns1.p08.nsone.net'],\n",
       " 'status': ['clientDeleteProhibited https://icann.org/epp#clientDeleteProhibited',\n",
       "  'clientTransferProhibited https://icann.org/epp#clientTransferProhibited',\n",
       "  'clientUpdateProhibited https://icann.org/epp#clientUpdateProhibited',\n",
       "  'clientUpdateProhibited (https://www.icann.org/epp#clientUpdateProhibited)',\n",
       "  'clientTransferProhibited (https://www.icann.org/epp#clientTransferProhibited)',\n",
       "  'clientDeleteProhibited (https://www.icann.org/epp#clientDeleteProhibited)'],\n",
       " 'emails': ['abusecomplaints@markmonitor.com', 'whoisrequest@markmonitor.com'],\n",
       " 'dnssec': 'unsigned',\n",
       " 'name': None,\n",
       " 'org': 'GitHub, Inc.',\n",
       " 'address': None,\n",
       " 'city': None,\n",
       " 'state': 'CA',\n",
       " 'registrant_postal_code': None,\n",
       " 'country': 'US'}"
      ]
     },
     "execution_count": 6,
     "metadata": {},
     "output_type": "execute_result"
    }
   ],
   "source": [
    "howis = wh.whois(\"github.com\")\n",
    "\n",
    "howis"
   ]
  },
  {
   "cell_type": "code",
   "execution_count": 7,
   "id": "a8104a7a-573c-4f30-83e0-072fced18b66",
   "metadata": {},
   "outputs": [
    {
     "data": {
      "text/plain": [
       "{'domain_name': ['MICROSOFT.COM', 'microsoft.com'],\n",
       " 'registrar': 'MarkMonitor, Inc.',\n",
       " 'whois_server': 'whois.markmonitor.com',\n",
       " 'referral_url': None,\n",
       " 'updated_date': [datetime.datetime(2023, 8, 18, 16, 15, 54),\n",
       "  datetime.datetime(2023, 8, 18, 16, 15, 54, tzinfo=datetime.timezone.utc)],\n",
       " 'creation_date': [datetime.datetime(1991, 5, 2, 4, 0),\n",
       "  datetime.datetime(1991, 5, 2, 4, 0, tzinfo=datetime.timezone.utc)],\n",
       " 'expiration_date': [datetime.datetime(2025, 5, 3, 4, 0),\n",
       "  datetime.datetime(2025, 5, 3, 0, 0, tzinfo=datetime.timezone.utc)],\n",
       " 'name_servers': ['NS1-39.AZURE-DNS.COM',\n",
       "  'NS2-39.AZURE-DNS.NET',\n",
       "  'NS3-39.AZURE-DNS.ORG',\n",
       "  'NS4-39.AZURE-DNS.INFO',\n",
       "  'ns3-39.azure-dns.org',\n",
       "  'ns2-39.azure-dns.net',\n",
       "  'ns1-39.azure-dns.com',\n",
       "  'ns4-39.azure-dns.info'],\n",
       " 'status': ['clientDeleteProhibited https://icann.org/epp#clientDeleteProhibited',\n",
       "  'clientTransferProhibited https://icann.org/epp#clientTransferProhibited',\n",
       "  'clientUpdateProhibited https://icann.org/epp#clientUpdateProhibited',\n",
       "  'serverDeleteProhibited https://icann.org/epp#serverDeleteProhibited',\n",
       "  'serverTransferProhibited https://icann.org/epp#serverTransferProhibited',\n",
       "  'serverUpdateProhibited https://icann.org/epp#serverUpdateProhibited',\n",
       "  'clientUpdateProhibited (https://www.icann.org/epp#clientUpdateProhibited)',\n",
       "  'clientTransferProhibited (https://www.icann.org/epp#clientTransferProhibited)',\n",
       "  'clientDeleteProhibited (https://www.icann.org/epp#clientDeleteProhibited)',\n",
       "  'serverUpdateProhibited (https://www.icann.org/epp#serverUpdateProhibited)',\n",
       "  'serverTransferProhibited (https://www.icann.org/epp#serverTransferProhibited)',\n",
       "  'serverDeleteProhibited (https://www.icann.org/epp#serverDeleteProhibited)'],\n",
       " 'emails': ['abusecomplaints@markmonitor.com',\n",
       "  'admin@domains.microsoft',\n",
       "  'msnhst@microsoft.com',\n",
       "  'whoisrequest@markmonitor.com'],\n",
       " 'dnssec': 'unsigned',\n",
       " 'name': 'Domain Administrator',\n",
       " 'org': 'Microsoft Corporation',\n",
       " 'address': 'One Microsoft Way,',\n",
       " 'city': 'Redmond',\n",
       " 'state': 'WA',\n",
       " 'registrant_postal_code': '98052',\n",
       " 'country': 'US'}"
      ]
     },
     "execution_count": 7,
     "metadata": {},
     "output_type": "execute_result"
    }
   ],
   "source": [
    "howis = wh.whois(\"microsoft.com\")\n",
    "\n",
    "howis"
   ]
  },
  {
   "cell_type": "code",
   "execution_count": 8,
   "id": "ad510eee-72db-4f92-9d68-0f11bf3926d4",
   "metadata": {},
   "outputs": [
    {
     "data": {
      "text/plain": [
       "{'domain_name': 'linktr.ee',\n",
       " 'status': 'ok (paid and in zone)',\n",
       " 'creation_date': '2016-03-08 21:02:27 +02:00',\n",
       " 'updated_date': '2024-03-24 06:23:17 +02:00',\n",
       " 'expiration_date': datetime.datetime(2025, 3, 9, 0, 0),\n",
       " 'registrar': 'Instra Corporation Pty Ltd',\n",
       " 'name_servers': ['ns-634.awsdns-15.net',\n",
       "  'ns-1782.awsdns-30.co.uk',\n",
       "  'ns-1534.awsdns-63.org',\n",
       "  'ns-169.awsdns-21.com']}"
      ]
     },
     "execution_count": 8,
     "metadata": {},
     "output_type": "execute_result"
    }
   ],
   "source": [
    "howis = wh.whois(\"linktr.ee\")\n",
    "\n",
    "howis"
   ]
  },
  {
   "cell_type": "code",
   "execution_count": null,
   "id": "44f3b0d1-14e9-480b-8866-837578956098",
   "metadata": {},
   "outputs": [],
   "source": []
  }
 ],
 "metadata": {
  "kernelspec": {
   "display_name": "Python 3 (ipykernel)",
   "language": "python",
   "name": "python3"
  },
  "language_info": {
   "codemirror_mode": {
    "name": "ipython",
    "version": 3
   },
   "file_extension": ".py",
   "mimetype": "text/x-python",
   "name": "python",
   "nbconvert_exporter": "python",
   "pygments_lexer": "ipython3",
   "version": "3.10.12"
  }
 },
 "nbformat": 4,
 "nbformat_minor": 5
}
