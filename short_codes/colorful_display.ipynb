{
 "cells": [
  {
   "cell_type": "code",
   "execution_count": 20,
   "id": "5e452d42-2490-478a-b8bd-b41bfaccb18d",
   "metadata": {},
   "outputs": [
    {
     "data": {
      "text/html": [
       "<pre style=\"white-space:pre;overflow-x:auto;line-height:normal;font-family:Menlo,'DejaVu Sans Mono',consolas,'Courier New',monospace\"><span style=\"color: #008000; text-decoration-color: #008000; font-weight: bold\">Welcome to </span><span style=\"color: #800080; text-decoration-color: #800080; font-weight: bold\">programming</span><span style=\"color: #800000; text-decoration-color: #800000; font-weight: bold\"> space.</span>\n",
       "</pre>\n"
      ],
      "text/plain": [
       "\u001b[1;32mWelcome to \u001b[0m\u001b[1;35mprogramming\u001b[0m\u001b[1;31m space.\u001b[0m\n"
      ]
     },
     "metadata": {},
     "output_type": "display_data"
    }
   ],
   "source": [
    "# pip install rich\n",
    "from rich.console import Console\n",
    "\n",
    "console = Console()\n",
    "\n",
    "msg = \"Welcome to [bold magenta]programming[red] space.[bold red]\"\n",
    "style = \"bold green\"\n",
    "\n",
    "console.print(msg, style=style)"
   ]
  },
  {
   "cell_type": "code",
   "execution_count": null,
   "id": "0a8c177f-a9e0-4da1-939f-cc11bddb25ac",
   "metadata": {},
   "outputs": [],
   "source": []
  }
 ],
 "metadata": {
  "kernelspec": {
   "display_name": "Python 3 (ipykernel)",
   "language": "python",
   "name": "python3"
  },
  "language_info": {
   "codemirror_mode": {
    "name": "ipython",
    "version": 3
   },
   "file_extension": ".py",
   "mimetype": "text/x-python",
   "name": "python",
   "nbconvert_exporter": "python",
   "pygments_lexer": "ipython3",
   "version": "3.10.12"
  }
 },
 "nbformat": 4,
 "nbformat_minor": 5
}
