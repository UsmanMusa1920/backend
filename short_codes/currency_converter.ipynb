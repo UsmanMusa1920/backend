{
 "cells": [
  {
   "cell_type": "code",
   "execution_count": 2,
   "id": "d6eb5997-b765-428e-9816-b0b8f3a0027b",
   "metadata": {},
   "outputs": [],
   "source": [
    "# pip install currencyconverter\n",
    "\n",
    "from currency_converter import CurrencyConverter\n",
    "\n",
    "def converter_currency(amount, _from, _to):\n",
    "    amount = float(amount)\n",
    "    \n",
    "    c = CurrencyConverter()\n",
    "\n",
    "    r = c.convert(amount, _from, _to)\n",
    "    return r"
   ]
  },
  {
   "cell_type": "code",
   "execution_count": 3,
   "id": "2a285926-283c-4fa4-87ef-484f87cdc714",
   "metadata": {},
   "outputs": [
    {
     "data": {
      "text/plain": [
       "90.24456276509339"
      ]
     },
     "execution_count": 3,
     "metadata": {},
     "output_type": "execute_result"
    }
   ],
   "source": [
    "converter_currency(100, \"USD\", \"EUR\")"
   ]
  },
  {
   "cell_type": "code",
   "execution_count": null,
   "id": "381870a8-3050-48cc-b1be-a1a6f1378d1e",
   "metadata": {},
   "outputs": [],
   "source": []
  }
 ],
 "metadata": {
  "kernelspec": {
   "display_name": "Python 3 (ipykernel)",
   "language": "python",
   "name": "python3"
  },
  "language_info": {
   "codemirror_mode": {
    "name": "ipython",
    "version": 3
   },
   "file_extension": ".py",
   "mimetype": "text/x-python",
   "name": "python",
   "nbconvert_exporter": "python",
   "pygments_lexer": "ipython3",
   "version": "3.10.12"
  }
 },
 "nbformat": 4,
 "nbformat_minor": 5
}
