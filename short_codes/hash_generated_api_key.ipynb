{
 "cells": [
  {
   "cell_type": "code",
   "execution_count": 1,
   "id": "ea7f4d43-ae8d-4fbf-8f75-ea3594625a19",
   "metadata": {},
   "outputs": [],
   "source": [
    "import secrets\n",
    "\n",
    "api = secrets.token_hex(24)"
   ]
  },
  {
   "cell_type": "code",
   "execution_count": 2,
   "id": "7e08239e-ca2f-402a-b3d5-da6d7b72a7d1",
   "metadata": {},
   "outputs": [
    {
     "data": {
      "text/plain": [
       "'386d1e77fcaeb84f37b539f065532ec8eed873c9adc12269'"
      ]
     },
     "execution_count": 2,
     "metadata": {},
     "output_type": "execute_result"
    }
   ],
   "source": [
    "api"
   ]
  },
  {
   "cell_type": "code",
   "execution_count": 3,
   "id": "7027f2e4-dadb-45a0-8038-6e265da780d9",
   "metadata": {},
   "outputs": [
    {
     "data": {
      "text/plain": [
       "'0f1c220852d1969bdcde00a9aaad42707ff1b9cb89a1dabe76c3c7c33a78cee9'"
      ]
     },
     "execution_count": 3,
     "metadata": {},
     "output_type": "execute_result"
    }
   ],
   "source": [
    "import hashlib\n",
    "\n",
    "hashlib.sha256(str.encode(api)).hexdigest()"
   ]
  },
  {
   "cell_type": "code",
   "execution_count": null,
   "id": "fa666f3f-7e68-4b66-86bf-60b0f336548b",
   "metadata": {},
   "outputs": [],
   "source": []
  }
 ],
 "metadata": {
  "kernelspec": {
   "display_name": "Python 3 (ipykernel)",
   "language": "python",
   "name": "python3"
  },
  "language_info": {
   "codemirror_mode": {
    "name": "ipython",
    "version": 3
   },
   "file_extension": ".py",
   "mimetype": "text/x-python",
   "name": "python",
   "nbconvert_exporter": "python",
   "pygments_lexer": "ipython3",
   "version": "3.10.12"
  }
 },
 "nbformat": 4,
 "nbformat_minor": 5
}
