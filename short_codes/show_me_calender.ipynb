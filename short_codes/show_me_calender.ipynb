{
 "cells": [
  {
   "cell_type": "code",
   "execution_count": 1,
   "id": "4c2a55e7-04f5-41c5-9b46-c8702a8b561d",
   "metadata": {},
   "outputs": [],
   "source": [
    "import calendar\n",
    "\n",
    "def display_calender(month, year):\n",
    "    year = int(year)\n",
    "    month = int(month)\n",
    "\n",
    "    cal = calendar.TextCalendar(calendar.SUNDAY)\n",
    "\n",
    "    month_calender = cal.formatmonth(year, month)\n",
    "    print(month_calender)"
   ]
  },
  {
   "cell_type": "code",
   "execution_count": 2,
   "id": "6aac343d-0b56-4d83-b26e-b291157108e8",
   "metadata": {},
   "outputs": [
    {
     "name": "stdout",
     "output_type": "stream",
     "text": [
      "   September 2024\n",
      "Su Mo Tu We Th Fr Sa\n",
      " 1  2  3  4  5  6  7\n",
      " 8  9 10 11 12 13 14\n",
      "15 16 17 18 19 20 21\n",
      "22 23 24 25 26 27 28\n",
      "29 30\n",
      "\n"
     ]
    }
   ],
   "source": [
    "display_calender(month=9, year=2024)"
   ]
  },
  {
   "cell_type": "code",
   "execution_count": 3,
   "id": "82bec1ee-9bcc-46d3-ae93-0615f4c3326e",
   "metadata": {},
   "outputs": [
    {
     "name": "stdout",
     "output_type": "stream",
     "text": [
      "      May 2019\n",
      "Su Mo Tu We Th Fr Sa\n",
      "          1  2  3  4\n",
      " 5  6  7  8  9 10 11\n",
      "12 13 14 15 16 17 18\n",
      "19 20 21 22 23 24 25\n",
      "26 27 28 29 30 31\n",
      "\n"
     ]
    }
   ],
   "source": [
    "display_calender(month=5, year=2019)"
   ]
  },
  {
   "cell_type": "code",
   "execution_count": null,
   "id": "aa8723c0-bb17-480e-a1ac-ffc471882caf",
   "metadata": {},
   "outputs": [],
   "source": []
  }
 ],
 "metadata": {
  "kernelspec": {
   "display_name": "Python 3 (ipykernel)",
   "language": "python",
   "name": "python3"
  },
  "language_info": {
   "codemirror_mode": {
    "name": "ipython",
    "version": 3
   },
   "file_extension": ".py",
   "mimetype": "text/x-python",
   "name": "python",
   "nbconvert_exporter": "python",
   "pygments_lexer": "ipython3",
   "version": "3.10.12"
  }
 },
 "nbformat": 4,
 "nbformat_minor": 5
}
