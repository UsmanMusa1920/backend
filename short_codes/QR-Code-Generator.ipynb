{
 "cells": [
  {
   "cell_type": "code",
   "execution_count": 1,
   "id": "98a4246b-eb0b-42bb-b640-3023aa34de4b",
   "metadata": {},
   "outputs": [
    {
     "name": "stdout",
     "output_type": "stream",
     "text": [
      "QR-Code (uca.svg) generated successfully!\n"
     ]
    }
   ],
   "source": [
    "# pip install pyqrcode\n",
    "import pyqrcode\n",
    "\n",
    "name = \"uca.svg\"\n",
    "\n",
    "data = r\"\"\"\n",
    "Name: Usman\n",
    "Language: Python\n",
    "Environment: Jupyter-lab\n",
    "\"\"\"\n",
    "\n",
    "qr_code = pyqrcode.create(data, version=6)\n",
    "\n",
    "print(f\"QR-Code ({name}) generated successfully!\")"
   ]
  },
  {
   "cell_type": "code",
   "execution_count": 2,
   "id": "bdc154d9-5bd6-4d9c-81ee-17a63e468a9a",
   "metadata": {},
   "outputs": [
    {
     "data": {
      "text/html": [
       "\n",
       "        <iframe\n",
       "            width=\"200\"\n",
       "            height=\"200\"\n",
       "            src=\"uca.svg\"\n",
       "            frameborder=\"0\"\n",
       "            allowfullscreen\n",
       "            \n",
       "        ></iframe>\n",
       "        "
      ],
      "text/plain": [
       "<IPython.lib.display.IFrame at 0x7fc815d67850>"
      ]
     },
     "execution_count": 2,
     "metadata": {},
     "output_type": "execute_result"
    }
   ],
   "source": [
    "from IPython.display import IFrame\n",
    "IFrame(\"uca.svg\", width=200, height=200)"
   ]
  },
  {
   "cell_type": "code",
   "execution_count": null,
   "id": "422fff56-cf25-4bab-9047-9000d2501959",
   "metadata": {},
   "outputs": [],
   "source": []
  }
 ],
 "metadata": {
  "kernelspec": {
   "display_name": "Python 3 (ipykernel)",
   "language": "python",
   "name": "python3"
  },
  "language_info": {
   "codemirror_mode": {
    "name": "ipython",
    "version": 3
   },
   "file_extension": ".py",
   "mimetype": "text/x-python",
   "name": "python",
   "nbconvert_exporter": "python",
   "pygments_lexer": "ipython3",
   "version": "3.10.12"
  }
 },
 "nbformat": 4,
 "nbformat_minor": 5
}
