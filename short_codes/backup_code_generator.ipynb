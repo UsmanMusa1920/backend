{
 "cells": [
  {
   "cell_type": "code",
   "execution_count": 1,
   "id": "76fb2346-1356-4258-b14c-9012d5e5283f",
   "metadata": {},
   "outputs": [
    {
     "name": "stdout",
     "output_type": "stream",
     "text": [
      "\t5313 2118\n",
      "\t9635 0501\n",
      "\t1817 9801\n",
      "\n",
      "\t8186 7645\n",
      "\t2427 8462\n",
      "\t4828 4625\n",
      "\n",
      "\t0985 0338\n",
      "\t8977 1999\n",
      "\t7017 6655\n"
     ]
    }
   ],
   "source": [
    "from random import randint as r\n",
    "\n",
    "for _ in range(9):\n",
    "    a = f\"{r(0, 9)}{r(0, 9)}{r(0, 9)}{r(0, 9)}\"\n",
    "    b = f\"{r(0, 9)}{r(0, 9)}{r(0, 9)}{r(0, 9)}\"\n",
    "    print(f\"\\t{a} {b}\")\n",
    "    if _ == 2 or _ == 5:\n",
    "        print()"
   ]
  },
  {
   "cell_type": "code",
   "execution_count": null,
   "id": "09628b81-fff2-4b67-80fe-ad15a6f27089",
   "metadata": {},
   "outputs": [],
   "source": []
  }
 ],
 "metadata": {
  "kernelspec": {
   "display_name": "Python 3 (ipykernel)",
   "language": "python",
   "name": "python3"
  },
  "language_info": {
   "codemirror_mode": {
    "name": "ipython",
    "version": 3
   },
   "file_extension": ".py",
   "mimetype": "text/x-python",
   "name": "python",
   "nbconvert_exporter": "python",
   "pygments_lexer": "ipython3",
   "version": "3.10.12"
  }
 },
 "nbformat": 4,
 "nbformat_minor": 5
}
