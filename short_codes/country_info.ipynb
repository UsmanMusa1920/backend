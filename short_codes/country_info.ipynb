{
 "cells": [
  {
   "cell_type": "code",
   "execution_count": null,
   "id": "56795c3c-f8e0-4e5d-bb35-2d403e138972",
   "metadata": {},
   "outputs": [],
   "source": [
    "# pip install countryinfo\n",
    "from countryinfo import CountryInfo\n",
    "\n",
    "def country_info(name):\n",
    "    country = CountryInfo(name)\n",
    "    \n",
    "    print(\"Country name:\", country.name())\n",
    "    print(\"Country capital:\", country.capital())\n",
    "    print(\"Country population:\", country.population())\n",
    "    print(\"Country area (square kilometers):\", country.area())\n",
    "    print(\"Country region:\", country.region())\n",
    "    print(\"Country sub-region:\", country.subregion())\n",
    "    print(\"Country demonym:\", country.demonym())\n",
    "    print(\"Country currency:\", country.currencies())\n",
    "    print(\"Country languages:\", country.languages())\n",
    "    print(\"Country borders:\", country.borders())"
   ]
  },
  {
   "cell_type": "code",
   "execution_count": null,
   "id": "f82a563e-7017-4fef-a6ba-de8eaa40cb44",
   "metadata": {},
   "outputs": [],
   "source": [
    "country_info(\"USA\")"
   ]
  },
  {
   "cell_type": "code",
   "execution_count": null,
   "id": "bd678188-4300-485d-963f-815cab507c3a",
   "metadata": {},
   "outputs": [],
   "source": [
    "country_info(\"Nigeria\")"
   ]
  },
  {
   "cell_type": "code",
   "execution_count": null,
   "id": "dea7d66e-6a78-4eac-9e48-af6ad905c09e",
   "metadata": {},
   "outputs": [],
   "source": [
    "country_info(\"China\")"
   ]
  },
  {
   "cell_type": "code",
   "execution_count": null,
   "id": "22de06a6-6d35-48e8-8638-d8964a26fbac",
   "metadata": {},
   "outputs": [],
   "source": [
    "country_info(\"Morocco\")"
   ]
  },
  {
   "cell_type": "code",
   "execution_count": null,
   "id": "d795675b-0c6d-4700-b8f7-27fc0d8f6ad9",
   "metadata": {},
   "outputs": [],
   "source": [
    "country_info(\"Yemen\")"
   ]
  },
  {
   "cell_type": "code",
   "execution_count": null,
   "id": "cffdfc35-ac52-4381-ba32-78a043ce7573",
   "metadata": {},
   "outputs": [],
   "source": [
    "country_info(\"UAE\")"
   ]
  },
  {
   "cell_type": "code",
   "execution_count": null,
   "id": "ab428b22-9695-46b2-8597-ca6bb174b73c",
   "metadata": {},
   "outputs": [],
   "source": [
    "country_info(\"India\")"
   ]
  },
  {
   "cell_type": "code",
   "execution_count": null,
   "id": "3d2ba08f-e2b9-4dad-ad1c-6a628c706e4f",
   "metadata": {},
   "outputs": [],
   "source": [
    "country_info(\"Saudi Arabia\")"
   ]
  },
  {
   "cell_type": "code",
   "execution_count": null,
   "id": "3de92a81-cdd5-4e29-93d1-c7e232413c6d",
   "metadata": {},
   "outputs": [],
   "source": [
    "country_info(\"Ghana\")"
   ]
  },
  {
   "cell_type": "code",
   "execution_count": null,
   "id": "011f78c1-188c-4aea-b49e-73c759f2fed6",
   "metadata": {},
   "outputs": [],
   "source": [
    "country_info(\"Egypt\")"
   ]
  },
  {
   "cell_type": "code",
   "execution_count": null,
   "id": "62503a9b-9cf5-400d-940d-08380f9aaf2d",
   "metadata": {},
   "outputs": [],
   "source": []
  }
 ],
 "metadata": {
  "kernelspec": {
   "display_name": "Python 3 (ipykernel)",
   "language": "python",
   "name": "python3"
  },
  "language_info": {
   "codemirror_mode": {
    "name": "ipython",
    "version": 3
   },
   "file_extension": ".py",
   "mimetype": "text/x-python",
   "name": "python",
   "nbconvert_exporter": "python",
   "pygments_lexer": "ipython3",
   "version": "3.10.12"
  }
 },
 "nbformat": 4,
 "nbformat_minor": 5
}
