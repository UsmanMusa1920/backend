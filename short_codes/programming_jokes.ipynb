{
 "cells": [
  {
   "cell_type": "code",
   "execution_count": 1,
   "id": "5bb4beb6-7660-4d35-9849-a5188b3a48a3",
   "metadata": {},
   "outputs": [],
   "source": [
    "# pip install pyjokes\n",
    "import pyjokes\n",
    "\n",
    "def my_joke():\n",
    "    # generate random programming joke\n",
    "    joke = pyjokes.get_joke()\n",
    "    print(joke)"
   ]
  },
  {
   "cell_type": "code",
   "execution_count": 2,
   "id": "ff5e4e93-8ad1-4a82-af67-75958577830d",
   "metadata": {},
   "outputs": [
    {
     "name": "stdout",
     "output_type": "stream",
     "text": [
      "Why do Java programmers have to wear glasses? Because they don't C#.\n"
     ]
    }
   ],
   "source": [
    "my_joke()"
   ]
  },
  {
   "cell_type": "code",
   "execution_count": 3,
   "id": "ee1d28d9-ee9f-4202-8f83-d599a1b06871",
   "metadata": {},
   "outputs": [
    {
     "name": "stdout",
     "output_type": "stream",
     "text": [
      "Why do they call this a word processor? It's simple, ... you've seen what food processors do to food, right?\n"
     ]
    }
   ],
   "source": [
    "my_joke()"
   ]
  },
  {
   "cell_type": "code",
   "execution_count": 4,
   "id": "ef937aca-e3fd-4765-8743-4c9a668dd6c5",
   "metadata": {},
   "outputs": [
    {
     "name": "stdout",
     "output_type": "stream",
     "text": [
      "I went to a street where the houses were numbered 8k, 16k, 32k, 64k, 128k, 256k and 512k. It was a trip down Memory Lane.\n"
     ]
    }
   ],
   "source": [
    "my_joke()"
   ]
  },
  {
   "cell_type": "code",
   "execution_count": 5,
   "id": "6f52bbef-7406-4c5b-9cbd-83382381189d",
   "metadata": {},
   "outputs": [
    {
     "name": "stdout",
     "output_type": "stream",
     "text": [
      "Sympathy for the Devil is really just about being nice to QAs.\n"
     ]
    }
   ],
   "source": [
    "my_joke()"
   ]
  },
  {
   "cell_type": "code",
   "execution_count": null,
   "id": "85d84c5d-9f90-49d1-a626-92eb7f510410",
   "metadata": {},
   "outputs": [],
   "source": []
  }
 ],
 "metadata": {
  "kernelspec": {
   "display_name": "Python 3 (ipykernel)",
   "language": "python",
   "name": "python3"
  },
  "language_info": {
   "codemirror_mode": {
    "name": "ipython",
    "version": 3
   },
   "file_extension": ".py",
   "mimetype": "text/x-python",
   "name": "python",
   "nbconvert_exporter": "python",
   "pygments_lexer": "ipython3",
   "version": "3.10.12"
  }
 },
 "nbformat": 4,
 "nbformat_minor": 5
}
