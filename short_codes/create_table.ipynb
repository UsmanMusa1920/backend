{
 "cells": [
  {
   "cell_type": "code",
   "execution_count": 3,
   "id": "e8848a49-86e9-4eb3-8cc1-9100cf032abc",
   "metadata": {},
   "outputs": [
    {
     "data": {
      "text/html": [
       "<pre style=\"white-space:pre;overflow-x:auto;line-height:normal;font-family:Menlo,'DejaVu Sans Mono',consolas,'Courier New',monospace\">┏━━━━┳━━━━━━━┳━━━━━━━━━━━━━━━━━━━┓\n",
       "┃<span style=\"font-weight: bold\"> ID </span>┃<span style=\"font-weight: bold\"> Name  </span>┃<span style=\"font-weight: bold\"> Favorite langauge </span>┃\n",
       "┡━━━━╇━━━━━━━╇━━━━━━━━━━━━━━━━━━━┩\n",
       "│<span style=\"color: #008080; text-decoration-color: #008080\">  1 </span>│<span style=\"color: #800080; text-decoration-color: #800080\"> Alice </span>│<span style=\"color: #008000; text-decoration-color: #008000\">               C++ </span>│\n",
       "│<span style=\"color: #008080; text-decoration-color: #008080\">  2 </span>│<span style=\"color: #800080; text-decoration-color: #800080\"> Usman </span>│<span style=\"color: #008000; text-decoration-color: #008000\">            Python </span>│\n",
       "│<span style=\"color: #008080; text-decoration-color: #008080\">  3 </span>│<span style=\"color: #800080; text-decoration-color: #800080\"> Bob   </span>│<span style=\"color: #008000; text-decoration-color: #008000\">        JavaScript </span>│\n",
       "└────┴───────┴───────────────────┘\n",
       "</pre>\n"
      ],
      "text/plain": [
       "┏━━━━┳━━━━━━━┳━━━━━━━━━━━━━━━━━━━┓\n",
       "┃\u001b[1m \u001b[0m\u001b[1mID\u001b[0m\u001b[1m \u001b[0m┃\u001b[1m \u001b[0m\u001b[1mName \u001b[0m\u001b[1m \u001b[0m┃\u001b[1m \u001b[0m\u001b[1mFavorite langauge\u001b[0m\u001b[1m \u001b[0m┃\n",
       "┡━━━━╇━━━━━━━╇━━━━━━━━━━━━━━━━━━━┩\n",
       "│\u001b[36m \u001b[0m\u001b[36m 1\u001b[0m\u001b[36m \u001b[0m│\u001b[35m \u001b[0m\u001b[35mAlice\u001b[0m\u001b[35m \u001b[0m│\u001b[32m \u001b[0m\u001b[32m              C++\u001b[0m\u001b[32m \u001b[0m│\n",
       "│\u001b[36m \u001b[0m\u001b[36m 2\u001b[0m\u001b[36m \u001b[0m│\u001b[35m \u001b[0m\u001b[35mUsman\u001b[0m\u001b[35m \u001b[0m│\u001b[32m \u001b[0m\u001b[32m           Python\u001b[0m\u001b[32m \u001b[0m│\n",
       "│\u001b[36m \u001b[0m\u001b[36m 3\u001b[0m\u001b[36m \u001b[0m│\u001b[35m \u001b[0m\u001b[35mBob  \u001b[0m\u001b[35m \u001b[0m│\u001b[32m \u001b[0m\u001b[32m       JavaScript\u001b[0m\u001b[32m \u001b[0m│\n",
       "└────┴───────┴───────────────────┘\n"
      ]
     },
     "metadata": {},
     "output_type": "display_data"
    }
   ],
   "source": [
    "# pip install rich\n",
    "from rich.table import Table\n",
    "from rich.console import Console\n",
    "\n",
    "console = Console()\n",
    "table = Table()\n",
    "\n",
    "table.add_column(\"ID\", justify=\"right\", style=\"cyan\", no_wrap=True)\n",
    "table.add_column(\"Name\", style=\"magenta\")\n",
    "table.add_column(\"Favorite langauge\", justify=\"right\", style=\"green\")\n",
    "\n",
    "table.add_row(\"1\", \"Alice\", \"C++\")\n",
    "table.add_row(\"2\", \"Usman\", \"Python\")\n",
    "table.add_row(\"3\", \"Bob\", \"JavaScript\")\n",
    "\n",
    "console.print(table)"
   ]
  },
  {
   "cell_type": "code",
   "execution_count": null,
   "id": "40992427-f3fe-4cdb-a1c0-fedc31e1e4b2",
   "metadata": {},
   "outputs": [],
   "source": []
  }
 ],
 "metadata": {
  "kernelspec": {
   "display_name": "Python 3 (ipykernel)",
   "language": "python",
   "name": "python3"
  },
  "language_info": {
   "codemirror_mode": {
    "name": "ipython",
    "version": 3
   },
   "file_extension": ".py",
   "mimetype": "text/x-python",
   "name": "python",
   "nbconvert_exporter": "python",
   "pygments_lexer": "ipython3",
   "version": "3.10.12"
  }
 },
 "nbformat": 4,
 "nbformat_minor": 5
}
