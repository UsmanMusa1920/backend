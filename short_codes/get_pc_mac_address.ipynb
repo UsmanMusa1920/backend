{
 "cells": [
  {
   "cell_type": "code",
   "execution_count": 1,
   "id": "8b7782dd-7d06-4387-88f8-3957f77e23a7",
   "metadata": {},
   "outputs": [],
   "source": [
    "import uuid\n",
    "\n",
    "mac = uuid.getnode()"
   ]
  },
  {
   "cell_type": "code",
   "execution_count": 2,
   "id": "40d35330-6a39-4328-b96a-2ce1712e08ba",
   "metadata": {},
   "outputs": [
    {
     "data": {
      "text/plain": [
       "254467533381801"
      ]
     },
     "execution_count": 2,
     "metadata": {},
     "output_type": "execute_result"
    }
   ],
   "source": [
    "mac"
   ]
  },
  {
   "cell_type": "code",
   "execution_count": 3,
   "id": "950e939a-8247-476c-9898-9e67d87ec38f",
   "metadata": {},
   "outputs": [
    {
     "data": {
      "text/plain": [
       "'0xe76fd6ef20a9'"
      ]
     },
     "execution_count": 3,
     "metadata": {},
     "output_type": "execute_result"
    }
   ],
   "source": [
    "hex(mac)"
   ]
  },
  {
   "cell_type": "code",
   "execution_count": null,
   "id": "6f4664bf-ca87-4adc-82b7-705a212a2591",
   "metadata": {},
   "outputs": [],
   "source": []
  }
 ],
 "metadata": {
  "kernelspec": {
   "display_name": "Python 3 (ipykernel)",
   "language": "python",
   "name": "python3"
  },
  "language_info": {
   "codemirror_mode": {
    "name": "ipython",
    "version": 3
   },
   "file_extension": ".py",
   "mimetype": "text/x-python",
   "name": "python",
   "nbconvert_exporter": "python",
   "pygments_lexer": "ipython3",
   "version": "3.10.12"
  }
 },
 "nbformat": 4,
 "nbformat_minor": 5
}
