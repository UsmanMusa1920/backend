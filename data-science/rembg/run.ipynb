{
 "cells": [
  {
   "cell_type": "code",
   "execution_count": null,
   "id": "2c9b7a9d-2539-4794-9a06-e795850e6859",
   "metadata": {},
   "outputs": [],
   "source": [
    "# Remove image background\n",
    "# pip install rembg\n",
    "\n",
    "from rembg import remove\n",
    "from PIL import Image\n",
    "\n",
    "orig_img = Image.open(\"baby.jpg\")"
   ]
  },
  {
   "cell_type": "code",
   "execution_count": null,
   "id": "0667d085-8b2e-448f-b926-c99433f97590",
   "metadata": {},
   "outputs": [],
   "source": [
    "orig_img"
   ]
  },
  {
   "cell_type": "code",
   "execution_count": null,
   "id": "67ac9df1-1881-4c01-9abb-e8897ae5e0c5",
   "metadata": {},
   "outputs": [],
   "source": [
    "rm_img_bg = remove(orig_img)\n",
    "\n",
    "rm_img_bg.save(\"processed_img.png\")"
   ]
  },
  {
   "cell_type": "code",
   "execution_count": null,
   "id": "742a1386-0311-4992-82a4-1f2744607244",
   "metadata": {},
   "outputs": [],
   "source": [
    "rm_img_bg"
   ]
  },
  {
   "cell_type": "code",
   "execution_count": null,
   "id": "608a9f37-8916-43a4-b43b-6f0f88f5291b",
   "metadata": {},
   "outputs": [],
   "source": []
  }
 ],
 "metadata": {
  "kernelspec": {
   "display_name": "Python 3 (ipykernel)",
   "language": "python",
   "name": "python3"
  },
  "language_info": {
   "codemirror_mode": {
    "name": "ipython",
    "version": 3
   },
   "file_extension": ".py",
   "mimetype": "text/x-python",
   "name": "python",
   "nbconvert_exporter": "python",
   "pygments_lexer": "ipython3",
   "version": "3.10.12"
  }
 },
 "nbformat": 4,
 "nbformat_minor": 5
}
