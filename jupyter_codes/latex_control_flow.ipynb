{
 "cells": [
  {
   "cell_type": "code",
   "execution_count": 1,
   "id": "f425244e-5783-4457-b2ac-5a09f3cff53b",
   "metadata": {},
   "outputs": [
    {
     "data": {
      "text/latex": [
       "$ \\begin{array}{l} \\mathbf{function} \\ \\mathrm{control\\_flow}(x) \\\\ \\hspace{1em} n \\gets 0 \\\\ \\hspace{1em} \\mathbf{while} \\ x > 1 \\\\ \\hspace{2em} n \\gets n + 1 \\\\ \\hspace{2em} \\mathbf{if} \\ x \\mathbin{\\%} 2 = 0 \\\\ \\hspace{3em} x \\gets \\left\\lfloor\\frac{x}{2}\\right\\rfloor \\\\ \\hspace{2em} \\mathbf{else} \\\\ \\hspace{3em} x \\gets 3 x + 1 \\\\ \\hspace{2em} \\mathbf{end \\ if} \\\\ \\hspace{1em} \\mathbf{end \\ while} \\\\ \\hspace{1em} \\mathbf{return} \\ n \\\\ \\mathbf{end \\ function} \\end{array} $"
      ],
      "text/plain": [
       "<latexify.ipython_wrappers.LatexifiedAlgorithm at 0x7f3cbf4e4f70>"
      ]
     },
     "execution_count": 1,
     "metadata": {},
     "output_type": "execute_result"
    }
   ],
   "source": [
    "import latexify\n",
    "\n",
    "@latexify.algorithmic\n",
    "def control_flow(x):\n",
    "    n = 0\n",
    "    while x > 1:\n",
    "        n = n + 1\n",
    "        if x % 2 == 0:\n",
    "            x = x // 2\n",
    "        else:\n",
    "            x = 3 * x + 1\n",
    "    return n\n",
    "\n",
    "control_flow"
   ]
  },
  {
   "cell_type": "code",
   "execution_count": null,
   "id": "cc091e11-af42-45ce-b12d-35bb5a0cf0cb",
   "metadata": {},
   "outputs": [],
   "source": []
  }
 ],
 "metadata": {
  "kernelspec": {
   "display_name": "Python 3 (ipykernel)",
   "language": "python",
   "name": "python3"
  },
  "language_info": {
   "codemirror_mode": {
    "name": "ipython",
    "version": 3
   },
   "file_extension": ".py",
   "mimetype": "text/x-python",
   "name": "python",
   "nbconvert_exporter": "python",
   "pygments_lexer": "ipython3",
   "version": "3.10.12"
  }
 },
 "nbformat": 4,
 "nbformat_minor": 5
}
