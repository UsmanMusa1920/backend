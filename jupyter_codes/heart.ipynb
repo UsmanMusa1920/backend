{
 "cells": [
  {
   "cell_type": "code",
   "execution_count": 1,
   "id": "ccec730a-b9a1-44bc-8c66-46c4f5791437",
   "metadata": {},
   "outputs": [
    {
     "name": "stdout",
     "output_type": "stream",
     "text": [
      "                                                            \n",
      "                                                            \n",
      "                                                            \n",
      "                ovePyILov           LovePyILo               \n",
      "            yILovePyILovePyIL   PyILovePyILovePyI           \n",
      "          PyILovePyILovePyILovePyILovePyILovePyILov         \n",
      "         PyILovePyILovePyILovePyILovePyILovePyILoveP        \n",
      "        PyILovePyILovePyILovePyILovePyILovePyILovePyI       \n",
      "        yILovePyILovePyILovePyILovePyILovePyILovePyIL       \n",
      "        ILovePyILovePyILovePyILovePyILovePyILovePyILo       \n",
      "        LovePyILovePyILovePyILovePyILovePyILovePyILov       \n",
      "        ovePyILovePyILovePyILovePyILovePyILovePyILove       \n",
      "        vePyILovePyILovePyILovePyILovePyILovePyILoveP       \n",
      "         PyILovePyILovePyILovePyILovePyILovePyILoveP        \n",
      "          ILovePyILovePyILovePyILovePyILovePyILoveP         \n",
      "          LovePyILovePyILovePyILovePyILovePyILovePy         \n",
      "            ePyILovePyILovePyILovePyILovePyILoveP           \n",
      "             yILovePyILovePyILovePyILovePyILoveP            \n",
      "              LovePyILovePyILovePyILovePyILoveP             \n",
      "                ePyILovePyILovePyILovePyILove               \n",
      "                  ILovePyILovePyILovePyILov                 \n",
      "                    vePyILovePyILovePyILo                   \n",
      "                       ILovePyILovePyI                      \n",
      "                          ePyILoveP                         \n",
      "                             Lov                            \n",
      "                              v                             \n",
      "                                                            \n",
      "                                                            \n",
      "                                                            \n",
      "                                                            \n"
     ]
    }
   ],
   "source": [
    "# -*- coding: utf-8 -*-\n",
    "\n",
    "print(\"\\n\".join\n",
    "    ([\"\".join\n",
    "        ([(\"ILovePython\"[(x - y) % 7]\n",
    "            if ((x * 0.05) ** 2 + (y * 0.1) ** 2 - 1)\n",
    "                ** 3 - (x * 0.05) ** 2 * (y * 0.1)\n",
    "                    ** 3 <= 0 else \" \")\n",
    "                        for x in range(-30, 30)])\n",
    "                            for y in range(15, -15, -1)]))"
   ]
  },
  {
   "cell_type": "code",
   "execution_count": null,
   "id": "7355cf79-60f6-4337-ac3b-4d373edad99e",
   "metadata": {},
   "outputs": [],
   "source": []
  }
 ],
 "metadata": {
  "kernelspec": {
   "display_name": "Python 3 (ipykernel)",
   "language": "python",
   "name": "python3"
  },
  "language_info": {
   "codemirror_mode": {
    "name": "ipython",
    "version": 3
   },
   "file_extension": ".py",
   "mimetype": "text/x-python",
   "name": "python",
   "nbconvert_exporter": "python",
   "pygments_lexer": "ipython3",
   "version": "3.10.12"
  }
 },
 "nbformat": 4,
 "nbformat_minor": 5
}
