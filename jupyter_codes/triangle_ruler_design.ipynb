{
 "cells": [
  {
   "cell_type": "code",
   "execution_count": 1,
   "id": "041aca41-3a0d-4772-b742-7342d02f6d83",
   "metadata": {},
   "outputs": [
    {
     "name": "stdout",
     "output_type": "stream",
     "text": [
      "* * * * * * * * * * * * * * * * * * *\n",
      "* * * * * * * * * * * * * * * * * *\n",
      "* * * * * * * * * * * * * * * * *\n",
      "* * * * * * * * * * * * * * * *\n",
      "* * * * * * * * * * * * * * *\n",
      "* * * * * * * * * * * * * *\n",
      "* * * * * * * * * * * * *\n",
      "* * * * * * * * * * * *\n",
      "* * * * * * * * * * *\n",
      "* * * * * * * * * *\n",
      "* * * * * * * * *\n",
      "* * * * * * * *\n",
      "* * * * * * *\n",
      "* * * * * *\n",
      "* * * * *\n",
      "* * * *\n",
      "* * *\n",
      "* *\n",
      "*\n"
     ]
    }
   ],
   "source": [
    "for i in range(1, 20):\n",
    "    for j in range(19, i, -1):\n",
    "        print(\"*\", end=\" \")\n",
    "    print(\"*\")"
   ]
  },
  {
   "cell_type": "code",
   "execution_count": null,
   "id": "daaa510d-c787-4fd4-a9c1-cb4d09461e06",
   "metadata": {},
   "outputs": [],
   "source": []
  }
 ],
 "metadata": {
  "kernelspec": {
   "display_name": "Python 3 (ipykernel)",
   "language": "python",
   "name": "python3"
  },
  "language_info": {
   "codemirror_mode": {
    "name": "ipython",
    "version": 3
   },
   "file_extension": ".py",
   "mimetype": "text/x-python",
   "name": "python",
   "nbconvert_exporter": "python",
   "pygments_lexer": "ipython3",
   "version": "3.10.12"
  }
 },
 "nbformat": 4,
 "nbformat_minor": 5
}
