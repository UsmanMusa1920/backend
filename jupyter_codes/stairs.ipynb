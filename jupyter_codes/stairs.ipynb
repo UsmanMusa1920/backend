{
 "cells": [
  {
   "cell_type": "code",
   "execution_count": 1,
   "id": "bfd45682-04f0-4f51-a436-485b9d9d819a",
   "metadata": {},
   "outputs": [
    {
     "name": "stdout",
     "output_type": "stream",
     "text": [
      "                  ||__||\n",
      "                 ||__||\n",
      "                ||__||\n",
      "               ||__||\n",
      "              ||__||\n",
      "             ||__||\n",
      "            ||__||\n",
      "           ||__||\n",
      "          ||__||\n",
      "         ||__||\n",
      "        ||__||\n",
      "       ||__||\n",
      "      ||__||\n",
      "     ||__||\n",
      "    ||__||\n",
      "   ||__||\n",
      "  ||__||\n",
      " ||__||\n",
      "||__||\n"
     ]
    }
   ],
   "source": [
    "for i in range(1, 20):\n",
    "    for j in range(19, i, -1):\n",
    "        print(\" \", end=\"\")\n",
    "    print(\"||__||\")"
   ]
  },
  {
   "cell_type": "code",
   "execution_count": null,
   "id": "2d5d47f1-ea2e-42af-971a-36db579ecafc",
   "metadata": {},
   "outputs": [],
   "source": []
  }
 ],
 "metadata": {
  "kernelspec": {
   "display_name": "Python 3 (ipykernel)",
   "language": "python",
   "name": "python3"
  },
  "language_info": {
   "codemirror_mode": {
    "name": "ipython",
    "version": 3
   },
   "file_extension": ".py",
   "mimetype": "text/x-python",
   "name": "python",
   "nbconvert_exporter": "python",
   "pygments_lexer": "ipython3",
   "version": "3.10.12"
  }
 },
 "nbformat": 4,
 "nbformat_minor": 5
}
