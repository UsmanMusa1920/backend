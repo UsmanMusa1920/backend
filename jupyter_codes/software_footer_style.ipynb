{
 "cells": [
  {
   "cell_type": "code",
   "execution_count": 1,
   "id": "64691253-84b3-4560-8a5e-35544a45dbe3",
   "metadata": {},
   "outputs": [],
   "source": [
    "endc = \"\\033[0m\" # normal text\n",
    "bold = \"\\033[1m\"\n",
    "underline = \"\\033[4m\"\n",
    "red = \"\\033[91m\"\n",
    "green = \"\\033[92m\"\n",
    "yellow = \"\\033[93m\"\n",
    "blue = \"\\033[94m\"\n",
    "purple = \"\\033[95m\"\n",
    "cyan = \"\\033[96m\"\n",
    "\n",
    "def software_footer(name, version=False, color=endc, spacing=0):\n",
    "    \"\"\"Function for styling software footer\"\"\"\n",
    "\n",
    "    y = \" \" * spacing\n",
    "    \n",
    "    desc = y + \"@ \" + name + \" Software - v\" + version\n",
    "    desc_center = desc.center(len(desc) + spacing)\n",
    "    border = \"=\" * len(desc_center)\n",
    "\n",
    "    print(f'{color}{border}{endc}', f'{color}{desc}{endc}', f'{color}{border}{endc}', sep=\"\\n\")"
   ]
  },
  {
   "cell_type": "code",
   "execution_count": 2,
   "id": "e9b09eda-615d-4547-9a2d-29d544e99479",
   "metadata": {},
   "outputs": [
    {
     "name": "stdout",
     "output_type": "stream",
     "text": [
      "\u001b[94m==================================================\u001b[0m\n",
      "\u001b[94m           @ Python Software - v3.10.12\u001b[0m\n",
      "\u001b[94m==================================================\u001b[0m\n"
     ]
    }
   ],
   "source": [
    "software_footer(\"Python\", \"3.10.12\", blue, spacing=11)"
   ]
  },
  {
   "cell_type": "code",
   "execution_count": 3,
   "id": "353be9f8-6663-4ee3-ab8b-349ed9215187",
   "metadata": {},
   "outputs": [
    {
     "name": "stdout",
     "output_type": "stream",
     "text": [
      "\u001b[91m=========================================================================================\u001b[0m\n",
      "\u001b[91m                              @ Requests Software - v2.32.3\u001b[0m\n",
      "\u001b[91m=========================================================================================\u001b[0m\n"
     ]
    }
   ],
   "source": [
    "software_footer(\"Requests\", \"2.32.3\", red, spacing=30)"
   ]
  },
  {
   "cell_type": "code",
   "execution_count": 4,
   "id": "e91fea80-6345-496e-9c5c-1dc455e506b4",
   "metadata": {},
   "outputs": [
    {
     "name": "stdout",
     "output_type": "stream",
     "text": [
      "\u001b[93m============================================================================\u001b[0m\n",
      "\u001b[93m                         @ Django Software - v4.2.4\u001b[0m\n",
      "\u001b[93m============================================================================\u001b[0m\n"
     ]
    }
   ],
   "source": [
    "software_footer(\"Django\", \"4.2.4\", yellow, spacing=25)"
   ]
  },
  {
   "cell_type": "code",
   "execution_count": null,
   "id": "26e3555c-4a3e-41e5-9064-7258ad9a6bd6",
   "metadata": {},
   "outputs": [],
   "source": []
  }
 ],
 "metadata": {
  "kernelspec": {
   "display_name": "Python 3 (ipykernel)",
   "language": "python",
   "name": "python3"
  },
  "language_info": {
   "codemirror_mode": {
    "name": "ipython",
    "version": 3
   },
   "file_extension": ".py",
   "mimetype": "text/x-python",
   "name": "python",
   "nbconvert_exporter": "python",
   "pygments_lexer": "ipython3",
   "version": "3.10.12"
  }
 },
 "nbformat": 4,
 "nbformat_minor": 5
}
